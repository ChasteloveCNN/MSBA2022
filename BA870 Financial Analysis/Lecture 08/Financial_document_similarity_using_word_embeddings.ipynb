{
  "cells": [
    {
      "cell_type": "markdown",
      "metadata": {
        "id": "2gWSuE_B16Pe"
      },
      "source": [
        "# Comparing similarity of financial text\n",
        "### Using \"word embeddings\" to capture words with similar meanings\n",
        "\n",
        "* There are a lot of different ways to compare the similarity of words and documents.\n",
        "* This Colab notebook demonstrates **comparing the concepts** of multiple documents instead of **just comparing the words**."
      ]
    },
    {
      "cell_type": "markdown",
      "source": [
        "###Import necessary libraries"
      ],
      "metadata": {
        "id": "4IIJuWsxb7Nk"
      }
    },
    {
      "cell_type": "code",
      "source": [
        "import pandas as pd\n",
        "import matplotlib.pyplot as plt \n",
        "import numpy as np"
      ],
      "metadata": {
        "id": "xJE1BuxJDVBe"
      },
      "execution_count": null,
      "outputs": []
    },
    {
      "cell_type": "markdown",
      "metadata": {
        "id": "LgAjeXg816Pg"
      },
      "source": [
        "## The issue\n",
        "\n",
        "Computers are very, very, very particular about what counts as \"the same.\" For example, `profit` in one document is the same as `profit` in another document, BUT the _capitalized_ version of `profit` is _not_ the same as the _lower case_ version."
      ]
    },
    {
      "cell_type": "code",
      "execution_count": null,
      "metadata": {
        "id": "vwcHLlYm16Ph",
        "outputId": "d01fb940-7bdb-47fc-be1f-a9f2548fe6c8",
        "colab": {
          "base_uri": "https://localhost:8080/"
        }
      },
      "outputs": [
        {
          "output_type": "stream",
          "name": "stdout",
          "text": [
            "Is profit the same as profit? True\n",
            "Is PROFIT the same as profit? False\n"
          ]
        }
      ],
      "source": [
        "print('Is profit the same as profit?', \"profit\" == \"profit\")\n",
        "print('Is PROFIT the same as profit?', \"PROFIT\" == \"profit\")"
      ]
    },
    {
      "cell_type": "markdown",
      "metadata": {
        "id": "KtGGjIsr16Pi"
      },
      "source": [
        "Let's start by taking a look at \"normal\" document similarity that focuses just on words, then compare that approach with using ***word embeddings*** on the exact same sentences.\n",
        "* Here are the sentences we'll be using:"
      ]
    },
    {
      "cell_type": "code",
      "execution_count": null,
      "metadata": {
        "id": "u0Sk9mw916Pi",
        "outputId": "10033568-96c1-4453-f60c-1c863559e0bc",
        "colab": {
          "base_uri": "https://localhost:8080/"
        }
      },
      "outputs": [
        {
          "output_type": "stream",
          "name": "stdout",
          "text": [
            "IBM stock rises after earnings announcements\n",
            "IBM increases on reported profits\n",
            "Exxon shares decline from revenue decrease\n",
            "Exxon lower with reduced sales\n"
          ]
        }
      ],
      "source": [
        "sentences = [\n",
        "    'IBM stock rises after earnings announcements',\n",
        "    'IBM increases on reported profits',\n",
        "    'Exxon shares decline from revenue decrease',\n",
        "    'Exxon lower with reduced sales'\n",
        "]\n",
        "\n",
        "print('\\n'.join(sentences))"
      ]
    },
    {
      "cell_type": "markdown",
      "metadata": {
        "id": "HlUSI7Tf16Pk"
      },
      "source": [
        "**Which pair do you think is the most similar?**\n",
        "* Two of them relate to the IBM's stock price increasing on improved income.\n",
        "* The other two focus on Exxon's stock price decreasing on lower reported sales."
      ]
    },
    {
      "cell_type": "markdown",
      "metadata": {
        "id": "wev9jr1G16Pl"
      },
      "source": [
        "## Word counting\n",
        "\n",
        "* To start, let's just count up the word ouccurences in each of the 4 documents."
      ]
    },
    {
      "cell_type": "code",
      "execution_count": null,
      "metadata": {
        "id": "zZSvxCDG16Pl",
        "outputId": "cb7aad9b-2528-422d-a8db-eae8ecab09d5",
        "colab": {
          "base_uri": "https://localhost:8080/",
          "height": 432
        }
      },
      "outputs": [
        {
          "output_type": "stream",
          "name": "stderr",
          "text": [
            "/usr/local/lib/python3.7/dist-packages/sklearn/utils/deprecation.py:87: FutureWarning: Function get_feature_names is deprecated; get_feature_names is deprecated in 1.0 and will be removed in 1.2. Please use get_feature_names_out instead.\n",
            "  warnings.warn(msg, category=FutureWarning)\n"
          ]
        },
        {
          "output_type": "execute_result",
          "data": {
            "text/html": [
              "\n",
              "  <div id=\"df-59fd74a6-44d9-4f3d-92a6-d0ac7a245262\">\n",
              "    <div class=\"colab-df-container\">\n",
              "      <div>\n",
              "<style scoped>\n",
              "    .dataframe tbody tr th:only-of-type {\n",
              "        vertical-align: middle;\n",
              "    }\n",
              "\n",
              "    .dataframe tbody tr th {\n",
              "        vertical-align: top;\n",
              "    }\n",
              "\n",
              "    .dataframe thead th {\n",
              "        text-align: right;\n",
              "    }\n",
              "</style>\n",
              "<table border=\"1\" class=\"dataframe\">\n",
              "  <thead>\n",
              "    <tr style=\"text-align: right;\">\n",
              "      <th></th>\n",
              "      <th>after</th>\n",
              "      <th>announcements</th>\n",
              "      <th>decline</th>\n",
              "      <th>decrease</th>\n",
              "      <th>earnings</th>\n",
              "      <th>exxon</th>\n",
              "      <th>from</th>\n",
              "      <th>ibm</th>\n",
              "      <th>increases</th>\n",
              "      <th>lower</th>\n",
              "      <th>on</th>\n",
              "      <th>profits</th>\n",
              "      <th>reduced</th>\n",
              "      <th>reported</th>\n",
              "      <th>revenue</th>\n",
              "      <th>rises</th>\n",
              "      <th>sales</th>\n",
              "      <th>shares</th>\n",
              "      <th>stock</th>\n",
              "      <th>with</th>\n",
              "    </tr>\n",
              "  </thead>\n",
              "  <tbody>\n",
              "    <tr>\n",
              "      <th>IBM stock rises after earnings announcements</th>\n",
              "      <td>1</td>\n",
              "      <td>1</td>\n",
              "      <td>0</td>\n",
              "      <td>0</td>\n",
              "      <td>1</td>\n",
              "      <td>0</td>\n",
              "      <td>0</td>\n",
              "      <td>1</td>\n",
              "      <td>0</td>\n",
              "      <td>0</td>\n",
              "      <td>0</td>\n",
              "      <td>0</td>\n",
              "      <td>0</td>\n",
              "      <td>0</td>\n",
              "      <td>0</td>\n",
              "      <td>1</td>\n",
              "      <td>0</td>\n",
              "      <td>0</td>\n",
              "      <td>1</td>\n",
              "      <td>0</td>\n",
              "    </tr>\n",
              "    <tr>\n",
              "      <th>IBM increases on reported profits</th>\n",
              "      <td>0</td>\n",
              "      <td>0</td>\n",
              "      <td>0</td>\n",
              "      <td>0</td>\n",
              "      <td>0</td>\n",
              "      <td>0</td>\n",
              "      <td>0</td>\n",
              "      <td>1</td>\n",
              "      <td>1</td>\n",
              "      <td>0</td>\n",
              "      <td>1</td>\n",
              "      <td>1</td>\n",
              "      <td>0</td>\n",
              "      <td>1</td>\n",
              "      <td>0</td>\n",
              "      <td>0</td>\n",
              "      <td>0</td>\n",
              "      <td>0</td>\n",
              "      <td>0</td>\n",
              "      <td>0</td>\n",
              "    </tr>\n",
              "    <tr>\n",
              "      <th>Exxon shares decline from revenue decrease</th>\n",
              "      <td>0</td>\n",
              "      <td>0</td>\n",
              "      <td>1</td>\n",
              "      <td>1</td>\n",
              "      <td>0</td>\n",
              "      <td>1</td>\n",
              "      <td>1</td>\n",
              "      <td>0</td>\n",
              "      <td>0</td>\n",
              "      <td>0</td>\n",
              "      <td>0</td>\n",
              "      <td>0</td>\n",
              "      <td>0</td>\n",
              "      <td>0</td>\n",
              "      <td>1</td>\n",
              "      <td>0</td>\n",
              "      <td>0</td>\n",
              "      <td>1</td>\n",
              "      <td>0</td>\n",
              "      <td>0</td>\n",
              "    </tr>\n",
              "    <tr>\n",
              "      <th>Exxon lower with reduced sales</th>\n",
              "      <td>0</td>\n",
              "      <td>0</td>\n",
              "      <td>0</td>\n",
              "      <td>0</td>\n",
              "      <td>0</td>\n",
              "      <td>1</td>\n",
              "      <td>0</td>\n",
              "      <td>0</td>\n",
              "      <td>0</td>\n",
              "      <td>1</td>\n",
              "      <td>0</td>\n",
              "      <td>0</td>\n",
              "      <td>1</td>\n",
              "      <td>0</td>\n",
              "      <td>0</td>\n",
              "      <td>0</td>\n",
              "      <td>1</td>\n",
              "      <td>0</td>\n",
              "      <td>0</td>\n",
              "      <td>1</td>\n",
              "    </tr>\n",
              "  </tbody>\n",
              "</table>\n",
              "</div>\n",
              "      <button class=\"colab-df-convert\" onclick=\"convertToInteractive('df-59fd74a6-44d9-4f3d-92a6-d0ac7a245262')\"\n",
              "              title=\"Convert this dataframe to an interactive table.\"\n",
              "              style=\"display:none;\">\n",
              "        \n",
              "  <svg xmlns=\"http://www.w3.org/2000/svg\" height=\"24px\"viewBox=\"0 0 24 24\"\n",
              "       width=\"24px\">\n",
              "    <path d=\"M0 0h24v24H0V0z\" fill=\"none\"/>\n",
              "    <path d=\"M18.56 5.44l.94 2.06.94-2.06 2.06-.94-2.06-.94-.94-2.06-.94 2.06-2.06.94zm-11 1L8.5 8.5l.94-2.06 2.06-.94-2.06-.94L8.5 2.5l-.94 2.06-2.06.94zm10 10l.94 2.06.94-2.06 2.06-.94-2.06-.94-.94-2.06-.94 2.06-2.06.94z\"/><path d=\"M17.41 7.96l-1.37-1.37c-.4-.4-.92-.59-1.43-.59-.52 0-1.04.2-1.43.59L10.3 9.45l-7.72 7.72c-.78.78-.78 2.05 0 2.83L4 21.41c.39.39.9.59 1.41.59.51 0 1.02-.2 1.41-.59l7.78-7.78 2.81-2.81c.8-.78.8-2.07 0-2.86zM5.41 20L4 18.59l7.72-7.72 1.47 1.35L5.41 20z\"/>\n",
              "  </svg>\n",
              "      </button>\n",
              "      \n",
              "  <style>\n",
              "    .colab-df-container {\n",
              "      display:flex;\n",
              "      flex-wrap:wrap;\n",
              "      gap: 12px;\n",
              "    }\n",
              "\n",
              "    .colab-df-convert {\n",
              "      background-color: #E8F0FE;\n",
              "      border: none;\n",
              "      border-radius: 50%;\n",
              "      cursor: pointer;\n",
              "      display: none;\n",
              "      fill: #1967D2;\n",
              "      height: 32px;\n",
              "      padding: 0 0 0 0;\n",
              "      width: 32px;\n",
              "    }\n",
              "\n",
              "    .colab-df-convert:hover {\n",
              "      background-color: #E2EBFA;\n",
              "      box-shadow: 0px 1px 2px rgba(60, 64, 67, 0.3), 0px 1px 3px 1px rgba(60, 64, 67, 0.15);\n",
              "      fill: #174EA6;\n",
              "    }\n",
              "\n",
              "    [theme=dark] .colab-df-convert {\n",
              "      background-color: #3B4455;\n",
              "      fill: #D2E3FC;\n",
              "    }\n",
              "\n",
              "    [theme=dark] .colab-df-convert:hover {\n",
              "      background-color: #434B5C;\n",
              "      box-shadow: 0px 1px 3px 1px rgba(0, 0, 0, 0.15);\n",
              "      filter: drop-shadow(0px 1px 2px rgba(0, 0, 0, 0.3));\n",
              "      fill: #FFFFFF;\n",
              "    }\n",
              "  </style>\n",
              "\n",
              "      <script>\n",
              "        const buttonEl =\n",
              "          document.querySelector('#df-59fd74a6-44d9-4f3d-92a6-d0ac7a245262 button.colab-df-convert');\n",
              "        buttonEl.style.display =\n",
              "          google.colab.kernel.accessAllowed ? 'block' : 'none';\n",
              "\n",
              "        async function convertToInteractive(key) {\n",
              "          const element = document.querySelector('#df-59fd74a6-44d9-4f3d-92a6-d0ac7a245262');\n",
              "          const dataTable =\n",
              "            await google.colab.kernel.invokeFunction('convertToInteractive',\n",
              "                                                     [key], {});\n",
              "          if (!dataTable) return;\n",
              "\n",
              "          const docLinkHtml = 'Like what you see? Visit the ' +\n",
              "            '<a target=\"_blank\" href=https://colab.research.google.com/notebooks/data_table.ipynb>data table notebook</a>'\n",
              "            + ' to learn more about interactive tables.';\n",
              "          element.innerHTML = '';\n",
              "          dataTable['output_type'] = 'display_data';\n",
              "          await google.colab.output.renderOutput(dataTable, element);\n",
              "          const docLink = document.createElement('div');\n",
              "          docLink.innerHTML = docLinkHtml;\n",
              "          element.appendChild(docLink);\n",
              "        }\n",
              "      </script>\n",
              "    </div>\n",
              "  </div>\n",
              "  "
            ],
            "text/plain": [
              "                                              after  announcements  ...  stock  with\n",
              "IBM stock rises after earnings announcements      1              1  ...      1     0\n",
              "IBM increases on reported profits                 0              0  ...      0     0\n",
              "Exxon shares decline from revenue decrease        0              0  ...      0     0\n",
              "Exxon lower with reduced sales                    0              0  ...      0     1\n",
              "\n",
              "[4 rows x 20 columns]"
            ]
          },
          "metadata": {},
          "execution_count": 5
        }
      ],
      "source": [
        "from sklearn.feature_extraction.text import CountVectorizer \n",
        "\n",
        "vectorizer = CountVectorizer(binary=True)\n",
        "matrix = vectorizer.fit_transform(sentences)\n",
        "counts = pd.DataFrame(\n",
        "    matrix.toarray(),\n",
        "    index=sentences,\n",
        "    columns=vectorizer.get_feature_names())\n",
        "counts"
      ]
    },
    {
      "cell_type": "markdown",
      "metadata": {
        "id": "HHPWOgyq16Pm"
      },
      "source": [
        "We'll be measuring document similarity via [cosine similarity](https://www.machinelearningplus.com/nlp/cosine-similarity/), a standard measure of similarity in natural language processing. It's similar to how we might look at a graph with points at `(0,0)` and `(2,3)` and measure the distance between them - just a bit more complicated."
      ]
    },
    {
      "cell_type": "code",
      "execution_count": null,
      "metadata": {
        "id": "JdB24tiV16Pn",
        "outputId": "764cb856-40ac-4673-bb3f-2bf18084c15c",
        "colab": {
          "base_uri": "https://localhost:8080/",
          "height": 227
        }
      },
      "outputs": [
        {
          "output_type": "execute_result",
          "data": {
            "text/html": [
              "<style type=\"text/css\">\n",
              "#T_9d074_row0_col0, #T_9d074_row1_col1, #T_9d074_row2_col2, #T_9d074_row3_col3 {\n",
              "  background-color: #023858;\n",
              "  color: #f1f1f1;\n",
              "}\n",
              "#T_9d074_row0_col1, #T_9d074_row1_col0, #T_9d074_row2_col3, #T_9d074_row3_col2 {\n",
              "  background-color: #e0dded;\n",
              "  color: #000000;\n",
              "}\n",
              "#T_9d074_row0_col2, #T_9d074_row0_col3, #T_9d074_row1_col2, #T_9d074_row1_col3, #T_9d074_row2_col0, #T_9d074_row2_col1, #T_9d074_row3_col0, #T_9d074_row3_col1 {\n",
              "  background-color: #fff7fb;\n",
              "  color: #000000;\n",
              "}\n",
              "</style>\n",
              "<table id=\"T_9d074_\" class=\"dataframe\">\n",
              "  <thead>\n",
              "    <tr>\n",
              "      <th class=\"blank level0\" >&nbsp;</th>\n",
              "      <th class=\"col_heading level0 col0\" >IBM stock rises after earnings announcements</th>\n",
              "      <th class=\"col_heading level0 col1\" >IBM increases on reported profits</th>\n",
              "      <th class=\"col_heading level0 col2\" >Exxon shares decline from revenue decrease</th>\n",
              "      <th class=\"col_heading level0 col3\" >Exxon lower with reduced sales</th>\n",
              "    </tr>\n",
              "  </thead>\n",
              "  <tbody>\n",
              "    <tr>\n",
              "      <th id=\"T_9d074_level0_row0\" class=\"row_heading level0 row0\" >IBM stock rises after earnings announcements</th>\n",
              "      <td id=\"T_9d074_row0_col0\" class=\"data row0 col0\" >1.000000</td>\n",
              "      <td id=\"T_9d074_row0_col1\" class=\"data row0 col1\" >0.182574</td>\n",
              "      <td id=\"T_9d074_row0_col2\" class=\"data row0 col2\" >0.000000</td>\n",
              "      <td id=\"T_9d074_row0_col3\" class=\"data row0 col3\" >0.000000</td>\n",
              "    </tr>\n",
              "    <tr>\n",
              "      <th id=\"T_9d074_level0_row1\" class=\"row_heading level0 row1\" >IBM increases on reported profits</th>\n",
              "      <td id=\"T_9d074_row1_col0\" class=\"data row1 col0\" >0.182574</td>\n",
              "      <td id=\"T_9d074_row1_col1\" class=\"data row1 col1\" >1.000000</td>\n",
              "      <td id=\"T_9d074_row1_col2\" class=\"data row1 col2\" >0.000000</td>\n",
              "      <td id=\"T_9d074_row1_col3\" class=\"data row1 col3\" >0.000000</td>\n",
              "    </tr>\n",
              "    <tr>\n",
              "      <th id=\"T_9d074_level0_row2\" class=\"row_heading level0 row2\" >Exxon shares decline from revenue decrease</th>\n",
              "      <td id=\"T_9d074_row2_col0\" class=\"data row2 col0\" >0.000000</td>\n",
              "      <td id=\"T_9d074_row2_col1\" class=\"data row2 col1\" >0.000000</td>\n",
              "      <td id=\"T_9d074_row2_col2\" class=\"data row2 col2\" >1.000000</td>\n",
              "      <td id=\"T_9d074_row2_col3\" class=\"data row2 col3\" >0.182574</td>\n",
              "    </tr>\n",
              "    <tr>\n",
              "      <th id=\"T_9d074_level0_row3\" class=\"row_heading level0 row3\" >Exxon lower with reduced sales</th>\n",
              "      <td id=\"T_9d074_row3_col0\" class=\"data row3 col0\" >0.000000</td>\n",
              "      <td id=\"T_9d074_row3_col1\" class=\"data row3 col1\" >0.000000</td>\n",
              "      <td id=\"T_9d074_row3_col2\" class=\"data row3 col2\" >0.182574</td>\n",
              "      <td id=\"T_9d074_row3_col3\" class=\"data row3 col3\" >1.000000</td>\n",
              "    </tr>\n",
              "  </tbody>\n",
              "</table>\n"
            ],
            "text/plain": [
              "<pandas.io.formats.style.Styler at 0x7f492a73dd10>"
            ]
          },
          "metadata": {},
          "execution_count": 6
        }
      ],
      "source": [
        "from sklearn.metrics.pairwise import cosine_similarity\n",
        "\n",
        "# Compute the similarities using the word counts\n",
        "similarities = cosine_similarity(matrix)\n",
        "\n",
        "# Make a fancy colored dataframe about it\n",
        "pd.DataFrame(similarities,\n",
        "             index=sentences,\n",
        "             columns=sentences) \\\n",
        "            .style \\\n",
        "            .background_gradient(axis=None)"
      ]
    },
    {
      "cell_type": "markdown",
      "metadata": {
        "id": "zeMzY9b816Po"
      },
      "source": [
        "Document similarity is on a scale of zero to one, with zero being completely dissimilar and one being an exact match. Each sentence has a `1` when compared to itself - they're totally equal!\n"
      ]
    },
    {
      "cell_type": "markdown",
      "metadata": {
        "id": "zRqmidq116Po"
      },
      "source": [
        "## Word embeddings\n",
        "\n",
        "Word embeddings are a step up from just counting words. Word embeddings give words _meaning_ to computers, teaching it that puppies are kind of like kittens, kittens are like cats, and shoes are very very different from all of those animals.\n",
        "\n",
        "We're going to be using the [spaCy word embeddings](https://spacy.io/usage/vectors-similarity/). Each word comes with a **96-dimension vector** that expresses things like how catlike the word is, whether you can wear it, if it's something people do during a basketball game (not those exactly, but the same idea). Think of it like 96 different scores for each word, all in different categories.\n"
      ]
    },
    {
      "cell_type": "code",
      "execution_count": null,
      "metadata": {
        "id": "o-PBC9-716Pp"
      },
      "outputs": [],
      "source": [
        "#!pip install spacy[transformers]\n",
        "#!spacy download en_core_web_md\n",
        "import spacy\n",
        "#print(spacy.__file__) \n",
        "nlp = spacy.load('en')"
      ]
    },
    {
      "cell_type": "markdown",
      "metadata": {
        "id": "UvKpkRU416Pp"
      },
      "source": [
        "For example, let's check out the 96 dimensions of facts and feelings that spaCy knows about the word `profit`."
      ]
    },
    {
      "cell_type": "code",
      "execution_count": null,
      "metadata": {
        "id": "DHb_ci0A16Pq"
      },
      "outputs": [],
      "source": [
        "word1 = nlp('profit').vector  # BLUE\n",
        "word2 = nlp('sales').vector   # ORANGE\n",
        "word3 = nlp('swam').vector  # GREEN"
      ]
    },
    {
      "cell_type": "code",
      "source": [
        "width=0.3\n",
        "plt.figure(figsize=(20,4))\n",
        "#plt.bar(x_val, y_val1, width=width)\n",
        "#plt.bar(x_val, y_val2, width=width)\n",
        "plt.bar(np.arange(len(word1)), word1, width=width)\n",
        "plt.bar(np.arange(len(word1))+width, word2, width=width)\n",
        "plt.bar(np.arange(len(word1))+2*width, word3, width=width)\n",
        "\n",
        "plt.show()"
      ],
      "metadata": {
        "colab": {
          "base_uri": "https://localhost:8080/",
          "height": 265
        },
        "id": "9hJZVQCmlb8L",
        "outputId": "869379ee-2749-4f85-9102-b02e5a1dbb7d"
      },
      "execution_count": null,
      "outputs": [
        {
          "output_type": "display_data",
          "data": {
            "image/png": "[encoded data removed]",
            "text/plain": [
              "<Figure size 1440x288 with 1 Axes>"
            ]
          },
          "metadata": {
            "needs_background": "light"
          }
        }
      ]
    },
    {
      "cell_type": "markdown",
      "metadata": {
        "id": "zIoBSb2h16Pq"
      },
      "source": [
        "In the same way that each word has a 96-dimension vector, **entire sentences are just combinations of the words inside.** We can feed spaCy a sentence and it'll spit out another 96 numbers, just like it did for `cat`."
      ]
    },
    {
      "cell_type": "code",
      "execution_count": null,
      "metadata": {
        "id": "uLKzVdsX16Pr",
        "outputId": "5ab3a9ae-eede-4bf4-c752-47b12bf7c2b5",
        "colab": {
          "base_uri": "https://localhost:8080/"
        }
      },
      "outputs": [
        {
          "output_type": "execute_result",
          "data": {
            "text/plain": [
              "array([-1.0932405 ,  1.6449403 ,  0.21043791, -1.6335632 ,  1.0646788 ,\n",
              "        0.30831435,  0.1035098 ,  0.03718032,  1.5392387 ,  2.1258945 ,\n",
              "       -0.47286865,  1.3256236 ,  1.1307312 , -0.6633233 ,  0.12991476,\n",
              "        1.4132024 , -0.6934737 ,  0.31755653,  0.9085254 , -1.0248829 ,\n",
              "       -0.4939215 ,  1.7706983 , -1.2963477 , -0.15207243,  0.19991735,\n",
              "        0.412442  ,  0.14747296, -0.08502694,  0.2602989 , -1.3530872 ,\n",
              "        1.3919003 , -1.0085694 , -1.1822277 , -0.39977932,  1.4235886 ,\n",
              "        0.5934362 ,  0.16334496,  0.11931906, -2.2430892 ,  0.4102122 ,\n",
              "        0.6984095 ,  0.64329135, -0.8527289 , -1.9269449 ,  1.0784557 ,\n",
              "        0.10822102,  0.46923766, -0.4482821 , -0.87215674,  0.19269714,\n",
              "        0.9897855 , -0.14976609, -1.0139267 , -0.01431601, -1.569678  ,\n",
              "       -0.33195448,  0.33750576,  0.59800446, -0.01138267,  0.6153113 ,\n",
              "        1.9581233 ,  0.9970264 , -0.724759  , -1.1564096 ,  1.141292  ,\n",
              "       -1.0515397 ,  1.0991541 , -0.06567138,  0.26000813, -0.15176149,\n",
              "       -0.59140605,  1.9968191 ,  1.7597147 , -0.49868712, -0.69145507,\n",
              "       -0.2119699 ,  0.09528749, -1.2167262 , -0.86943585, -0.03744132,\n",
              "       -1.5324306 ,  0.5068847 , -0.47937542,  0.20056604, -0.29211047,\n",
              "       -1.1500043 ,  0.8091129 ,  0.9713549 , -0.98556423,  0.63925713,\n",
              "        0.3834734 ,  0.04471777,  0.09609371,  0.39694923, -0.76010513,\n",
              "        0.44565997], dtype=float32)"
            ]
          },
          "metadata": {},
          "execution_count": 11
        }
      ],
      "source": [
        "nlp('cats and dogs do not get along').vector"
      ]
    },
    {
      "cell_type": "markdown",
      "metadata": {
        "id": "QyVwN_Aj16Pr"
      },
      "source": [
        "\n",
        "In order to find the similarity of each of our sentences, we'll need to conver them each into vectors."
      ]
    },
    {
      "cell_type": "code",
      "execution_count": null,
      "metadata": {
        "id": "E1XzkFIf16Pr",
        "outputId": "976b91c4-a75f-4d24-c644-df9eabdebaac",
        "colab": {
          "base_uri": "https://localhost:8080/"
        }
      },
      "outputs": [
        {
          "output_type": "stream",
          "name": "stdout",
          "text": [
            "We have 4 different vectors\n",
            "And the first one has 96 measurements\n",
            "And the second one has 96 measurements\n",
            "And the third one has 96 measurements\n",
            "And the fourth one has 96 measurements\n"
          ]
        }
      ],
      "source": [
        "# We aren't printing this because it's 3 * 300 = 900 numbers\n",
        "vectors = [nlp(sentence).vector for sentence in sentences]\n",
        "\n",
        "# Print out some notes about it\n",
        "print(\"We have\", len(vectors), \"different vectors\")\n",
        "print(\"And the first one has\", len(vectors[0]), \"measurements\")\n",
        "print(\"And the second one has\", len(vectors[1]), \"measurements\")\n",
        "print(\"And the third one has\", len(vectors[2]), \"measurements\")\n",
        "print(\"And the fourth one has\", len(vectors[3]), \"measurements\")"
      ]
    },
    {
      "cell_type": "code",
      "execution_count": null,
      "metadata": {
        "id": "pmeUwcw816Ps",
        "outputId": "27dac56d-7ce2-4936-959b-ec9f0c0fcb5b",
        "colab": {
          "base_uri": "https://localhost:8080/",
          "height": 227
        }
      },
      "outputs": [
        {
          "output_type": "execute_result",
          "data": {
            "text/html": [
              "<style type=\"text/css\">\n",
              "#T_071e4_row0_col0, #T_071e4_row1_col1, #T_071e4_row2_col2, #T_071e4_row3_col3 {\n",
              "  background-color: #023858;\n",
              "  color: #f1f1f1;\n",
              "}\n",
              "#T_071e4_row0_col1, #T_071e4_row1_col0 {\n",
              "  background-color: #3f93c2;\n",
              "  color: #f1f1f1;\n",
              "}\n",
              "#T_071e4_row0_col2, #T_071e4_row2_col0 {\n",
              "  background-color: #c4cbe3;\n",
              "  color: #000000;\n",
              "}\n",
              "#T_071e4_row0_col3, #T_071e4_row3_col0 {\n",
              "  background-color: #fff7fb;\n",
              "  color: #000000;\n",
              "}\n",
              "#T_071e4_row1_col2, #T_071e4_row2_col1 {\n",
              "  background-color: #e4e1ef;\n",
              "  color: #000000;\n",
              "}\n",
              "#T_071e4_row1_col3, #T_071e4_row3_col1 {\n",
              "  background-color: #f1ebf5;\n",
              "  color: #000000;\n",
              "}\n",
              "#T_071e4_row2_col3, #T_071e4_row3_col2 {\n",
              "  background-color: #bfc9e1;\n",
              "  color: #000000;\n",
              "}\n",
              "</style>\n",
              "<table id=\"T_071e4_\" class=\"dataframe\">\n",
              "  <thead>\n",
              "    <tr>\n",
              "      <th class=\"blank level0\" >&nbsp;</th>\n",
              "      <th class=\"col_heading level0 col0\" >IBM stock rises after earnings announcements</th>\n",
              "      <th class=\"col_heading level0 col1\" >IBM increases on reported profits</th>\n",
              "      <th class=\"col_heading level0 col2\" >Exxon shares decline from revenue decrease</th>\n",
              "      <th class=\"col_heading level0 col3\" >Exxon lower with reduced sales</th>\n",
              "    </tr>\n",
              "  </thead>\n",
              "  <tbody>\n",
              "    <tr>\n",
              "      <th id=\"T_071e4_level0_row0\" class=\"row_heading level0 row0\" >IBM stock rises after earnings announcements</th>\n",
              "      <td id=\"T_071e4_row0_col0\" class=\"data row0 col0\" >1.000000</td>\n",
              "      <td id=\"T_071e4_row0_col1\" class=\"data row0 col1\" >0.796137</td>\n",
              "      <td id=\"T_071e4_row0_col2\" class=\"data row0 col2\" >0.627898</td>\n",
              "      <td id=\"T_071e4_row0_col3\" class=\"data row0 col3\" >0.478869</td>\n",
              "    </tr>\n",
              "    <tr>\n",
              "      <th id=\"T_071e4_level0_row1\" class=\"row_heading level0 row1\" >IBM increases on reported profits</th>\n",
              "      <td id=\"T_071e4_row1_col0\" class=\"data row1 col0\" >0.796137</td>\n",
              "      <td id=\"T_071e4_row1_col1\" class=\"data row1 col1\" >1.000000</td>\n",
              "      <td id=\"T_071e4_row1_col2\" class=\"data row1 col2\" >0.563364</td>\n",
              "      <td id=\"T_071e4_row1_col3\" class=\"data row1 col3\" >0.525836</td>\n",
              "    </tr>\n",
              "    <tr>\n",
              "      <th id=\"T_071e4_level0_row2\" class=\"row_heading level0 row2\" >Exxon shares decline from revenue decrease</th>\n",
              "      <td id=\"T_071e4_row2_col0\" class=\"data row2 col0\" >0.627898</td>\n",
              "      <td id=\"T_071e4_row2_col1\" class=\"data row2 col1\" >0.563364</td>\n",
              "      <td id=\"T_071e4_row2_col2\" class=\"data row2 col2\" >1.000000</td>\n",
              "      <td id=\"T_071e4_row2_col3\" class=\"data row2 col3\" >0.637442</td>\n",
              "    </tr>\n",
              "    <tr>\n",
              "      <th id=\"T_071e4_level0_row3\" class=\"row_heading level0 row3\" >Exxon lower with reduced sales</th>\n",
              "      <td id=\"T_071e4_row3_col0\" class=\"data row3 col0\" >0.478869</td>\n",
              "      <td id=\"T_071e4_row3_col1\" class=\"data row3 col1\" >0.525836</td>\n",
              "      <td id=\"T_071e4_row3_col2\" class=\"data row3 col2\" >0.637442</td>\n",
              "      <td id=\"T_071e4_row3_col3\" class=\"data row3 col3\" >1.000000</td>\n",
              "    </tr>\n",
              "  </tbody>\n",
              "</table>\n"
            ],
            "text/plain": [
              "<pandas.io.formats.style.Styler at 0x7f4921be7450>"
            ]
          },
          "metadata": {},
          "execution_count": 13
        }
      ],
      "source": [
        "# Compute similarities\n",
        "similarities = cosine_similarity(vectors)\n",
        "\n",
        "# Turn into a dataframe\n",
        "pd.DataFrame(similarities,\n",
        "            index=sentences,\n",
        "            columns=sentences) \\\n",
        "            .style \\\n",
        "            .background_gradient(axis=None)"
      ]
    },
    {
      "cell_type": "markdown",
      "metadata": {
        "id": "UZ2pvPN716Pt"
      },
      "source": [
        "**And there we go!** The first thing to notice is that _none of these sentences are totally dissimilar_. Last time we had multiple zeroes - this time there are none at all.\n",
        "\n",
        "NNote that \"IBM stock rises after earnings announcements\" and \"IBM increases on reported profits\" are very similar with a score of 0.796.\n",
        "\n",
        "Thanks to spaCy's word embeddings understanding the concepts behind the words, the computer was able to measure the similarity between \"profit\" and \"earnings, along with \"rises\" and \"increases.\" As a result we got magically high scores despite the important words not matching exactly!\n"
      ]
    },
    {
      "cell_type": "markdown",
      "metadata": {
        "id": "APzT-nI716Pv"
      },
      "source": [
        "## Review\n",
        "\n",
        "In this section, we looked at how **word embeddings** can allow more in-depth comparisons between texts than just plain word counting. Word embeddings allow the computer to understance **nuance** and **conceptual similarity** as opposed to just word-by-word counting.\n",
        "\n",
        "There are shortcomings to both word counting and word embeddings, but depending on whether you're looking for exact matches or a more conceptual pairing, **either one can be the correct choice**.\n"
      ]
    },
    {
      "cell_type": "code",
      "execution_count": null,
      "metadata": {
        "id": "ngntwxRa16Pv"
      },
      "outputs": [],
      "source": [
        ""
      ]
    }
  ],
  "metadata": {
    "kernelspec": {
      "display_name": "Python 3",
      "language": "python",
      "name": "python3"
    },
    "language_info": {
      "codemirror_mode": {
        "name": "ipython",
        "version": 3
      },
      "file_extension": ".py",
      "mimetype": "text/x-python",
      "name": "python",
      "nbconvert_exporter": "python",
      "pygments_lexer": "ipython3",
      "version": "3.6.8"
    },
    "toc": {
      "base_numbering": 1,
      "nav_menu": {},
      "number_sections": true,
      "sideBar": true,
      "skip_h1_title": false,
      "title_cell": "Table of Contents",
      "title_sidebar": "Contents",
      "toc_cell": false,
      "toc_position": {},
      "toc_section_display": true,
      "toc_window_display": false
    },
    "colab": {
      "name": "Financial document similarity using word embeddings.ipynb",
      "provenance": []
    }
  },
  "nbformat": 4,
  "nbformat_minor": 0
}