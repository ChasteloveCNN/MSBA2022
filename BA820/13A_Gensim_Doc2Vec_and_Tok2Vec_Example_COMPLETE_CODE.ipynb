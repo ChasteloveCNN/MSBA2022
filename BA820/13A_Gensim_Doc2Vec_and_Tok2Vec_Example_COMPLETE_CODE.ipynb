{
  "nbformat": 4,
  "nbformat_minor": 0,
  "metadata": {
    "colab": {
      "provenance": [],
      "collapsed_sections": [],
      "include_colab_link": true
    },
    "kernelspec": {
      "name": "python3",
      "display_name": "Python 3"
    },
    "language_info": {
      "name": "python"
    }
  },
  "cells": [
    {
      "cell_type": "markdown",
      "metadata": {
        "id": "view-in-github",
        "colab_type": "text"
      },
      "source": [
        "<a href=\"https://colab.research.google.com/github/ChasteloveCNN/MSBA2022/blob/main/13A_Gensim_Doc2Vec_and_Tok2Vec_Example_COMPLETE_CODE.ipynb\" target=\"_parent\"><img src=\"https://colab.research.google.com/assets/colab-badge.svg\" alt=\"Open In Colab\"/></a>"
      ]
    },
    {
      "cell_type": "markdown",
      "metadata": {
        "id": "-JicOckUD6Be"
      },
      "source": [
        "# Putting the Lego Pieces Together - Topic Modeling (Top2Vec)\n",
        "\n",
        "![](https://raw.githubusercontent.com/ddangelov/Top2Vec/master/images/doc_word_embedding.svg?sanitize=true)\n",
        "\n",
        "### Resources\n",
        "\n",
        "- https://github.com/ddangelov/Top2Vec\n",
        "- https://radimrehurek.com/gensim/models/doc2vec.html\n",
        "\n",
        "\n",
        "### Intuition\n",
        "\n",
        "- Train word and document vectors jointly\n",
        "- With the same space, use dimensionality reduction\n",
        "- cluster points\n",
        "- use the closest N tokens to the center to identify the keywords to help frame the topic for the cluster"
      ]
    },
    {
      "cell_type": "code",
      "metadata": {
        "id": "o-D2S19kHS4i",
        "colab": {
          "base_uri": "https://localhost:8080/"
        },
        "outputId": "24537224-8805-47b7-905e-dcb984dc0b31"
      },
      "source": [
        "# installs\n",
        "! pip install umap-learn"
      ],
      "execution_count": null,
      "outputs": [
        {
          "output_type": "stream",
          "name": "stdout",
          "text": [
            "Collecting umap-learn\n",
            "  Downloading umap-learn-0.5.2.tar.gz (86 kB)\n",
            "\u001b[K     |████████████████████████████████| 86 kB 4.2 MB/s \n",
            "\u001b[?25hRequirement already satisfied: numpy>=1.17 in /usr/local/lib/python3.7/dist-packages (from umap-learn) (1.19.5)\n",
            "Requirement already satisfied: scikit-learn>=0.22 in /usr/local/lib/python3.7/dist-packages (from umap-learn) (1.0.1)\n",
            "Requirement already satisfied: scipy>=1.0 in /usr/local/lib/python3.7/dist-packages (from umap-learn) (1.4.1)\n",
            "Requirement already satisfied: numba>=0.49 in /usr/local/lib/python3.7/dist-packages (from umap-learn) (0.51.2)\n",
            "Collecting pynndescent>=0.5\n",
            "  Downloading pynndescent-0.5.5.tar.gz (1.1 MB)\n",
            "\u001b[K     |████████████████████████████████| 1.1 MB 48.6 MB/s \n",
            "\u001b[?25hRequirement already satisfied: tqdm in /usr/local/lib/python3.7/dist-packages (from umap-learn) (4.62.3)\n",
            "Requirement already satisfied: setuptools in /usr/local/lib/python3.7/dist-packages (from numba>=0.49->umap-learn) (57.4.0)\n",
            "Requirement already satisfied: llvmlite<0.35,>=0.34.0.dev0 in /usr/local/lib/python3.7/dist-packages (from numba>=0.49->umap-learn) (0.34.0)\n",
            "Requirement already satisfied: joblib>=0.11 in /usr/local/lib/python3.7/dist-packages (from pynndescent>=0.5->umap-learn) (1.1.0)\n",
            "Requirement already satisfied: threadpoolctl>=2.0.0 in /usr/local/lib/python3.7/dist-packages (from scikit-learn>=0.22->umap-learn) (3.0.0)\n",
            "Building wheels for collected packages: umap-learn, pynndescent\n",
            "  Building wheel for umap-learn (setup.py) ... \u001b[?25l\u001b[?25hdone\n",
            "  Created wheel for umap-learn: filename=umap_learn-0.5.2-py3-none-any.whl size=82709 sha256=030d83107e859ec8579d1e7495a750f1cb7e15afd693a5648477b63bf78264f9\n",
            "  Stored in directory: /root/.cache/pip/wheels/84/1b/c6/aaf68a748122632967cef4dffef68224eb16798b6793257d82\n",
            "  Building wheel for pynndescent (setup.py) ... \u001b[?25l\u001b[?25hdone\n",
            "  Created wheel for pynndescent: filename=pynndescent-0.5.5-py3-none-any.whl size=52603 sha256=47ce7a89cfb4df425d3741fafc3e3ddef86c912b6c692fe8ba026105c40620f4\n",
            "  Stored in directory: /root/.cache/pip/wheels/af/e9/33/04db1436df0757c42fda8ea6796d7a8586e23c85fac355f476\n",
            "Successfully built umap-learn pynndescent\n",
            "Installing collected packages: pynndescent, umap-learn\n",
            "Successfully installed pynndescent-0.5.5 umap-learn-0.5.2\n"
          ]
        }
      ]
    },
    {
      "cell_type": "code",
      "metadata": {
        "id": "6VZDWS5-ZNMT"
      },
      "source": [
        "# imports\n",
        "import pandas as pd\n",
        "from gensim.models.doc2vec import Doc2Vec, TaggedDocument\n",
        "import spacy\n",
        "from spacy import cli\n",
        "\n",
        "import seaborn as sns\n",
        "\n",
        "from sklearn.cluster import KMeans\n",
        "from sklearn.neighbors import NearestNeighbors\n",
        "\n",
        "from umap import UMAP"
      ],
      "execution_count": null,
      "outputs": []
    },
    {
      "cell_type": "code",
      "metadata": {
        "colab": {
          "base_uri": "https://localhost:8080/"
        },
        "id": "iHRVOGhIaiEW",
        "outputId": "a2da0af7-536d-4340-ec1a-8c3cbfba4128"
      },
      "source": [
        "# spacy small model\n",
        "model = \"en_core_web_sm\"\n",
        "cli.download(model)\n",
        "nlp = spacy.load(model)"
      ],
      "execution_count": null,
      "outputs": [
        {
          "output_type": "stream",
          "name": "stdout",
          "text": [
            "\u001b[38;5;2m✔ Download and installation successful\u001b[0m\n",
            "You can now load the model via spacy.load('en_core_web_sm')\n"
          ]
        }
      ]
    },
    {
      "cell_type": "code",
      "metadata": {
        "id": "FhcE3s-SZQ60",
        "colab": {
          "base_uri": "https://localhost:8080/"
        },
        "outputId": "060e4b34-e274-4a9d-b627-7322d39fbc0a"
      },
      "source": [
        "# get the airline intents\n",
        "# air = pd.read_gbq(\"SELECT * from `questrom.datasets.airline-intents`\", \"questrom\")\n",
        "df = pd.read_gbq(\"SELECT * from `questrom.datasets.topics`\", \"questrom\")"
      ],
      "execution_count": null,
      "outputs": [
        {
          "output_type": "stream",
          "name": "stdout",
          "text": [
            "Please visit this URL to authorize this application: https://accounts.google.com/o/oauth2/auth?response_type=code&client_id=725825577420-unm2gnkiprugilg743tkbig250f4sfsj.apps.googleusercontent.com&redirect_uri=urn%3Aietf%3Awg%3Aoauth%3A2.0%3Aoob&scope=https%3A%2F%2Fwww.googleapis.com%2Fauth%2Fbigquery&state=jcZaIj3Y1QHtGvgJKIOS5FDOG04jvU&prompt=consent&access_type=offline\n"
          ]
        }
      ]
    },
    {
      "cell_type": "code",
      "metadata": {
        "id": "3GzR_kLEZd4S"
      },
      "source": [
        "df.shape"
      ],
      "execution_count": null,
      "outputs": []
    },
    {
      "cell_type": "code",
      "metadata": {
        "id": "CTI-p2eYZiER"
      },
      "source": [
        "df.sample(3)"
      ],
      "execution_count": null,
      "outputs": []
    },
    {
      "cell_type": "code",
      "metadata": {
        "id": "3KbVevGZHKmm"
      },
      "source": [],
      "execution_count": null,
      "outputs": []
    },
    {
      "cell_type": "markdown",
      "metadata": {
        "id": "0qQx91-HHBTI"
      },
      "source": [
        "# Build the Model"
      ]
    },
    {
      "cell_type": "code",
      "metadata": {
        "id": "ycM2PS55ZjOf"
      },
      "source": [
        "# make a list of tagged docs\n",
        "# the docs say to use the index as the label, so we will follow that approach\n",
        "\n",
        "# extracting just the tokenizer, thats all we care about\n",
        "tokenizer = nlp.tokenizer\n",
        "\n",
        "def tokenize(text):\n",
        "  doc = tokenizer(text)\n",
        "  return [token.text for token in doc]\n",
        "\n",
        "df['tokens'] = df.text.str.strip().apply(tokenize)\n",
        "\n",
        "\n"
      ],
      "execution_count": null,
      "outputs": []
    },
    {
      "cell_type": "code",
      "metadata": {
        "colab": {
          "base_uri": "https://localhost:8080/",
          "height": 143
        },
        "id": "WM2qOKSIg9jb",
        "outputId": "0a1ccfc5-3b4c-4c2c-81e2-9204e9f6bffb"
      },
      "source": [
        "df.head(3)"
      ],
      "execution_count": null,
      "outputs": [
        {
          "output_type": "execute_result",
          "data": {
            "text/html": [
              "<div>\n",
              "<style scoped>\n",
              "    .dataframe tbody tr th:only-of-type {\n",
              "        vertical-align: middle;\n",
              "    }\n",
              "\n",
              "    .dataframe tbody tr th {\n",
              "        vertical-align: top;\n",
              "    }\n",
              "\n",
              "    .dataframe thead th {\n",
              "        text-align: right;\n",
              "    }\n",
              "</style>\n",
              "<table border=\"1\" class=\"dataframe\">\n",
              "  <thead>\n",
              "    <tr style=\"text-align: right;\">\n",
              "      <th></th>\n",
              "      <th>id</th>\n",
              "      <th>text</th>\n",
              "      <th>topic</th>\n",
              "      <th>tokens</th>\n",
              "    </tr>\n",
              "  </thead>\n",
              "  <tbody>\n",
              "    <tr>\n",
              "      <th>0</th>\n",
              "      <td>1</td>\n",
              "      <td>I'm going to be out of the country for about a...</td>\n",
              "      <td>Shipping</td>\n",
              "      <td>[I, 'm, going, to, be, out, of, the, country, ...</td>\n",
              "    </tr>\n",
              "    <tr>\n",
              "      <th>1</th>\n",
              "      <td>2</td>\n",
              "      <td>I was wondering if you'd be able to overnight ...</td>\n",
              "      <td>Shipping</td>\n",
              "      <td>[I, was, wondering, if, you, 'd, be, able, to,...</td>\n",
              "    </tr>\n",
              "    <tr>\n",
              "      <th>2</th>\n",
              "      <td>3</td>\n",
              "      <td>The Swingline electronic stapler (472555) look...</td>\n",
              "      <td>Shipping</td>\n",
              "      <td>[The, Swingline, electronic, stapler, (, 47255...</td>\n",
              "    </tr>\n",
              "  </tbody>\n",
              "</table>\n",
              "</div>"
            ],
            "text/plain": [
              "   id  ...                                             tokens\n",
              "0   1  ...  [I, 'm, going, to, be, out, of, the, country, ...\n",
              "1   2  ...  [I, was, wondering, if, you, 'd, be, able, to,...\n",
              "2   3  ...  [The, Swingline, electronic, stapler, (, 47255...\n",
              "\n",
              "[3 rows x 4 columns]"
            ]
          },
          "metadata": {},
          "execution_count": 8
        }
      ]
    },
    {
      "cell_type": "code",
      "metadata": {
        "colab": {
          "base_uri": "https://localhost:8080/"
        },
        "id": "yHzMXeMfg5jD",
        "outputId": "0389d99c-5bc1-4d2a-bfd2-fb63f721c509"
      },
      "source": [
        "tokens = df.tokens.to_list()\n",
        "docs = [TaggedDocument(t, [str(i)]) for i, t in enumerate(tokens)]\n",
        "docs[0]"
      ],
      "execution_count": null,
      "outputs": [
        {
          "output_type": "execute_result",
          "data": {
            "text/plain": [
              "TaggedDocument(words=['I', \"'m\", 'going', 'to', 'be', 'out', 'of', 'the', 'country', 'for', 'about', 'a', 'week', ',', 'but', 'before', 'I', 'travel', 'I', \"'m\", 'going', 'to', 'be', 'getting', 'the', 'animal', 'print', 'jumper', ',', 'product', 'code', 'T383434J.', 'Can', 'I', 'have', 'this', 'held', 'at', 'the', 'post', 'office', 'or', 'a', 'distribution', 'centre', 'for', 'pickup', '?', 'I', \"'d\", 'just', 'hate', 'to', 'have', 'it', 'sitting', 'at', 'my', 'house', 'when', 'I', \"'m\", 'not', 'going', 'to', 'be', 'around', '.'], tags=['0'])"
            ]
          },
          "metadata": {},
          "execution_count": 9
        }
      ]
    },
    {
      "cell_type": "code",
      "metadata": {
        "id": "KiGXGLB7dicZ"
      },
      "source": [
        "# lets setup the model\n",
        "# https://medium.com/@mishra.thedeepak/doc2vec-simple-implementation-example-df2afbbfbad5\n",
        "# https://radimrehurek.com/gensim/auto_examples/tutorials/run_doc2vec_lee.html\n",
        "# If dm=1 means ‘distributed memory’ (PV-DM) and dm =0 means ‘distributed bag of words’ (PV-DBOW). Distributed Memory model preserves the word order in a document whereas Distributed Bag of words just uses the bag of words approach, which doesn’t preserve any word order.\n",
        "model = Doc2Vec(vector_size=50, min_count=2, epochs=40, dm=1)"
      ],
      "execution_count": null,
      "outputs": []
    },
    {
      "cell_type": "code",
      "metadata": {
        "id": "lypCp0wddk9A"
      },
      "source": [
        "# setup the vocabulary\n",
        "model.build_vocab(docs)"
      ],
      "execution_count": null,
      "outputs": []
    },
    {
      "cell_type": "code",
      "metadata": {
        "id": "SPx-UXCxeMti"
      },
      "source": [
        "# train\n",
        "model.train(docs, total_examples=model.corpus_count, epochs=model.epochs)"
      ],
      "execution_count": null,
      "outputs": []
    },
    {
      "cell_type": "code",
      "metadata": {
        "colab": {
          "base_uri": "https://localhost:8080/"
        },
        "id": "xRQdVJs_eSnB",
        "outputId": "13b5dd3c-cdc7-4c43-87ce-062cfe88eff0"
      },
      "source": [
        "# # what is the size of our vocab?\n",
        "\n",
        "len(model.wv.vocab)"
      ],
      "execution_count": null,
      "outputs": [
        {
          "output_type": "execute_result",
          "data": {
            "text/plain": [
              "4231"
            ]
          },
          "metadata": {},
          "execution_count": 13
        }
      ]
    },
    {
      "cell_type": "code",
      "metadata": {
        "id": "E3H7X8lBfOUj"
      },
      "source": [
        "# get a predicted document vector\n",
        "dv = model.infer_vector(tokens[0])"
      ],
      "execution_count": null,
      "outputs": []
    },
    {
      "cell_type": "code",
      "metadata": {
        "colab": {
          "base_uri": "https://localhost:8080/"
        },
        "id": "3bX3vQKziGpC",
        "outputId": "8636e29b-00e1-463a-de5f-3944d5abde4c"
      },
      "source": [
        "dv.shape"
      ],
      "execution_count": null,
      "outputs": [
        {
          "output_type": "execute_result",
          "data": {
            "text/plain": [
              "(50,)"
            ]
          },
          "metadata": {},
          "execution_count": 15
        }
      ]
    },
    {
      "cell_type": "code",
      "metadata": {
        "colab": {
          "base_uri": "https://localhost:8080/"
        },
        "id": "VQx3j8NPig4e",
        "outputId": "780c3dea-3fe8-411f-cc55-44d6a80fb715"
      },
      "source": [
        "dv"
      ],
      "execution_count": null,
      "outputs": [
        {
          "output_type": "execute_result",
          "data": {
            "text/plain": [
              "array([-0.18060349, -0.7797983 , -0.07528827, -0.30421507, -1.1698989 ,\n",
              "       -0.30718115, -0.13548371, -0.2177858 ,  0.3816725 ,  0.40093687,\n",
              "        0.15048517,  0.5407088 ,  0.532066  ,  0.619948  , -0.5068819 ,\n",
              "       -0.06365155,  0.7687812 ,  0.37296116, -0.3217831 , -0.07805105,\n",
              "        0.5796331 , -0.5409556 , -0.01579339, -0.24863361, -0.16741402,\n",
              "        0.1600232 , -0.4715238 , -0.36747095,  0.39724362, -0.02597511,\n",
              "       -0.1265035 , -0.38647994,  0.23288693, -0.42488584,  0.21710415,\n",
              "        0.85499793, -0.32232425, -0.53739166, -0.6475286 , -0.28937954,\n",
              "       -0.00145683, -1.0210332 ,  0.5029759 ,  0.98788804, -0.8597865 ,\n",
              "       -0.99883175,  0.10064248,  0.31253394, -0.65430456, -0.65363365],\n",
              "      dtype=float32)"
            ]
          },
          "metadata": {},
          "execution_count": 16
        }
      ]
    },
    {
      "cell_type": "code",
      "metadata": {
        "id": "T61ubg7Gij2U"
      },
      "source": [
        "# save the model\n",
        "model.save(\"d2v.model\")\n",
        "\n",
        "# load the model\n",
        "model2 = Doc2Vec.load(\"d2v.model\")\n"
      ],
      "execution_count": null,
      "outputs": []
    },
    {
      "cell_type": "code",
      "metadata": {
        "id": "ORsRRrLqHFlh"
      },
      "source": [],
      "execution_count": null,
      "outputs": []
    },
    {
      "cell_type": "markdown",
      "metadata": {
        "id": "WchOp4rFHFdf"
      },
      "source": [
        "# Extract the Trained Word and Document Vectors"
      ]
    },
    {
      "cell_type": "code",
      "metadata": {
        "id": "uDEbO5nCi56j"
      },
      "source": [
        "# get the doc vectors -- we feed in the tokenized document as a list of tokens\n",
        "dvs = [model.infer_vector(doc) for doc in tokens]"
      ],
      "execution_count": null,
      "outputs": []
    },
    {
      "cell_type": "code",
      "metadata": {
        "colab": {
          "base_uri": "https://localhost:8080/"
        },
        "id": "W-YUFT6sj9ml",
        "outputId": "e8555ab8-d60f-4206-eedc-d7ba039696fe"
      },
      "source": [
        "len(dvs)"
      ],
      "execution_count": null,
      "outputs": [
        {
          "output_type": "execute_result",
          "data": {
            "text/plain": [
              "5000"
            ]
          },
          "metadata": {},
          "execution_count": 19
        }
      ]
    },
    {
      "cell_type": "code",
      "metadata": {
        "colab": {
          "base_uri": "https://localhost:8080/"
        },
        "id": "UOyv6NECkAls",
        "outputId": "54b841c0-0453-497b-bc4e-dcca288d1b33"
      },
      "source": [
        "df.shape"
      ],
      "execution_count": null,
      "outputs": [
        {
          "output_type": "execute_result",
          "data": {
            "text/plain": [
              "(5000, 4)"
            ]
          },
          "metadata": {},
          "execution_count": 20
        }
      ]
    },
    {
      "cell_type": "code",
      "metadata": {
        "colab": {
          "base_uri": "https://localhost:8080/"
        },
        "id": "Bq-HcxxEkBpD",
        "outputId": "5efa265e-12f5-4569-8e32-b871a5aba4c3"
      },
      "source": [
        "# now, get the vocabulary word vectors\n",
        "words = model.wv.vocab.keys()\n",
        "words"
      ],
      "execution_count": null,
      "outputs": [
        {
          "output_type": "execute_result",
          "data": {
            "text/plain": [
              "dict_keys(['I', \"'m\", 'going', 'to', 'be', 'out', 'of', 'the', 'country', 'for', 'about', 'a', 'week', ',', 'but', 'before', 'travel', 'getting', 'animal', 'print', 'jumper', 'product', 'code', 'Can', 'have', 'this', 'held', 'at', 'post', 'office', 'or', 'distribution', 'centre', 'pickup', '?', \"'d\", 'just', 'hate', 'it', 'sitting', 'my', 'house', 'when', 'not', 'around', '.', 'was', 'wondering', 'if', 'you', 'able', 'overnight', 'jacket', '(', 'Item', '#', ')', 'me', 'in', 'Trenton', 'NJ', 'The', 'electronic', 'stapler', 'looks', 'really', 'great', 'would', 'need', 'shipped', 'St.', 'Thomas', 'US', 'Virgin', 'Islands', 'Do', 'allow', 'that', 'is', 'considered', '\"', 'international', 'shipping', 'think', 'bag', 'work', '!', 'However', 'do', 'know', 'how', 'long', 'take', 'send', 'Kings', 'Mountain', 'NC', 'Zip', ':', '28086', 'might', 'somewhat', 'hurry', 'so', 'thought', 'check', 'state', 'wristlet', '58818', 'center', 'ring', 'Stanley', 'Bostitch', 'When', 'estimated', 'delivery', 'date', 'order', 'creatine', 'item', 'number', 'and', 'sent', 'Burlington', 'VT', 'trench', 'coat', 'size', '4', 'spa', 'hoodie', 'desk', '-', 'My', 'friend', \"'s\", 'birthday', 'coming', 'up', 'like', 'get', 'him', 'Klein', 'Tools', 'screwdriver', 'set', 'also', 'right', 'Brownsburg', 'IN', '46112', 'did', \"n't\", 'any', 'expedited', 'anything', 'Would', 'these', 'AJ-360', 'Chicago', 'IL', 'by', 'chance', 'were', 'sometime', 'today', 'sweater', 'cool', 'racerback', 'II', 'bonded', 'satin', 'Kobalt', 'Hi', 'looking', 'maybe', 'Samsung', 'Galaxy', 'Tab', 'S2', 'NOOK', 'If', 'what', 'options', \"'ll\", 'probably', 'end', 'ordering', 'Kat', 'Von', 'D', 'lipstick', 'which', 'pretty', 'small', 'That', 'being', 'case', 'possible', 'PO', 'box', 'prefer', 'OK', 'iphone', 'crossbody', 'tote', 'Is', 'there', 'way', 'sign', 'alerts', 'via', 'text', 'oversized', 'having', 'love', 'an', 'alert', 'arrives', 'Also', 'will', 'email', 'notification', 'posted', 'mail', 'This', 'amazing', 'nice', 'condo', 'clarksville', 'TN', '37040', 'could', 'your', 'people', 'leave', 'with', 'neighbor', 'usually', 'gone', 'during', 'day', 'because', 'And', 'much', 'cost', 'ship', 'place', 'receive', 'tomorrow', 'Oakland', 'CA', 'option', 'crystal', 'stone', 'stretch', 'bracelet', 'Pineville', '28134', 'SKU', 'clip', '2', 'wireless', 'speaker', 'JBLCLIP2BLKAM', 'Now', 'turmeric', '&', 'nut', 'within', 'six', 'business', 'days', 'What', 'cheapest', 'plenty', 'time', 'live', 'MD', 'second', 'instructions', 'driver', 'leaves', 'package', 'front', 'apartment', 'complex', 'instead', 'door', 'Foods', 'want', 'Valentino', 'earrings', 'assure', 'home', 'delivered', 'Could', 'require', 'signature', 'upon', 'fact', 'kept', 'are', 'Boston', 'MA', 'spare', 'ecig', 'battery', 'Puritan', 'Pride', 'computer', 'ASIN', 'settle', 'standard', 'Corner', 'Laptop', 'Writing', 'Desk', 'rated', 'provide', 'tracking', 'info', 'all', 'orders', 'extract', 'basket', 'patio', 'sort', 'rush', 'free', 'cheap', 'then', 'someone', 'can', 'left', 'shirt', 'thinking', 'girls', 'Pattern', 'Dress', 'Web', 'wanted', 'later', 'offer', 'on', 'pearl', 'Nordstrom', 'Lace', 'Slip', 'dress', 'Austin', 'TX', 'her', 'color', 'corrector', 'Beach', 'FL', 'Supima', 'tell', 'halter', 'babydoll', 'choose', 'Las', 'Vegas', 'NV', 'Pro', 'backpack', 'leaf', 'blower', 'sure', 'specify', 'has', 'gets', 'buy', 'one', 'table', 'lamp', '641246', 'Surrey', 'British', 'Columbia', 'Canada', ' ', 'things', 'outside', 'United', 'States', 'Madison', 'comforter', 'Charter', 'club', 'XL', 'Oval', 'Link', 'Necklace', 'CH0287', 'Stripe', 'flat', 'OXO', 'tool', 'pleated', 'blue', 'cami', 'large', 'ribbed', 'pullover', 'Dell', 'New', 'NY', 'rest', 'less', 'Williams', 'Sonoma', '5', 'Nook', 'GlowLight', 'Plus', 'next', 'three', 'Baltimore', 'as', 'soon', 'GNC', 'triple', 'strength', 'Sweater', 'Earrings', 'lace', 'give', 'protein', 'powder', 'fastest', 'speed', 'Pittsburgh', 'PA', 'Will', 'required', 'from', 'same', 'All', 'White', 'Lilies', 'sister', '92928SWV3', 'she', 'lives', 'Radcliff', 'KY', '40159', 'step', 'something', 'quicker', 'rather', 'quickly', 'pay', 'fortune', 'fees', 'On', 'average', 'see', 'some', 'anti', 'aging', 'serum', 'South', 'ME', '04106', 'happen', '031194', 'headphones', 'JBLDUETBTBLK', 'Portland', 'Maine', 'LuckyFit', 'Whey', 'Powder', '157724', 'Executive', 'Chair', 'Salt', 'Lake', 'City\\\\', 'UT', 'track', 'after', 'ships', 'am', 'purchase', 'A', 'girlfriend', 'we', 'both', 'our', 'speeds', 'may', 'sleeping', 'shoes', 'Atlanta', 'GA', 'two', 'MRM', 'Protein', 'BPI', 'Sports', 'whey', 'fire', 'tablet', 'flats', 'City', 'flow', 'cargo', 'Kit', 'regular', 'oxfords', '42', 'off', 'shoulder', 'romper', 'sizing', 'No', 'Asos', 'High', 'Heels', 'gift', 'Bristol', 'BS1', '1', 'GB', 'ballet', '84101', 'leggings', '813', 'Kids', \"'\", 'Block', 'Heel', 'G', '396754', 'ask', 'available', 'Hartford', 'CT', 'bow', 'STYLE', 'NO', 'Ottawa', 'suitcase', '990119', 'style', 'NUMBER', 'solid', 'rubber', 'flip', 'flops', 'clogs', '6', 'Style', 'confirmation', 'record', 'Okay', 'military', '240375', 'For', 'Long', 'Island', '11101', 'use', 'USPS', 'request', 'carrier', 'nothing', 'problems', 'UPS', 'avoid', 'using', 'them', 'altogether', 'chair', 'blender', '2750180', 'roses', 'monkey', 'yoga', 'mat', 'With', 'body', 'scrub', 'Taylors', 'SC', '29687', 'allowed', 'Boss', 'Husky', 'Allen', 'wrench', '202934871', 'Pendant', \"'ve\", 'decided', 'Opti', 'Men', 'start', 'taking', 'Omaha', 'NE', 'Country', 'Life', 'vitamins', 'Product', 'Code', 'few', 'items', 'site', 'make', 'accept', 'Michael', 'Kors', 'back', 'porch', 'Samsonite', '28', 'Cinema', 'SB150', 'Phoenix', 'AZ', 'Extreme', 'mascara', 'had', 'theft', 'Ontario', '91762', 'than', 'let', 'charges', 'multivitamin', 'SWU152', 'Optimum', 'Nutrition', 'Women', 'Daily', 'Multi', 'Vitamin', 'Piece', 'Luggage', 'Set', 'Sumptuous', 'Knockout', 'Defining', 'Lift', 'Fan', 'Mascara', 'anyway', 'fly', 'i', '7', 'Pack', 'Flavormax', 'Cartridges', 'statement', 'necklace', 'come', 'placed', 'yet', 'first', 'return', 'window', 'Run', 'needing', 'fee', 'costs', 'Short', 'hooded', 'parka', 'Louis', 'MO', 'faster', 'possibly', 'select', 'web', 'phone', 'cordless', 'Cable', 'Classics', 'Hoop', 'E', 'four', 'now', 'quickest', 'considering', 'charm', '[', ']', 'address', 'credit', 'card', 'flashlight', 'boots', 'ITEM', '\\t', 'VS-2750/1744689', 'Internet', 'Apple', 'Valley', '92307', 'Tower', 'Dresser', 'Salinas', 'Ca', 'Linear', 'Armoire', 'Number', 'eye', 'cream', 'Milford', '06776', 'husband', 'Reede', 'ordered', 'future', 'expensive', 'they', \"'re\", 'stock', 'armoire', 'lawn', 'mower', 'heart', 'ID', 'tiered', 'Online', 'Inquiries', 'jeans', 'How', '17139', 'San', 'Antonio', 'spend', 'over', 'certain', 'amount', 'Freebird', 'booties', '9', 'Jym', 'Omega', 'fish', 'oil', 'checkout', 'Striped', '29210', 'Perry', 'duffel', 'FP-030', 'Single', 'hammock', 'Missouri', 'LuckyVitamin', 'Vitacost', 'Oil', '100', '%', 'REDACTED', 'yesterday', 'worried', 'wo', 'arrive', 'As', 'confimation', 'shipment', 'while', 'its', 'Fish', 'comes', 'Tonique', 'Radiance', 'Ringgold', '30736', 'seen', 'lot', 'news', 'bit', 'Rockport', 'riding', 'Modern', 'Embrace', 'Pink', 'Rose', 'Lily', 'wife', 'additional', 'Perfectly', 'Clean', 'Fresh', 'belt', 'Inspire', '3', 'Circle', 'Double', 'Heart', 'Aurora', 'CO', '80014', '010', 'cufflinks', 'Boise', '83716', 'Mango', 'Boots', '89127', 'magic', 'notes', 'Sku', 'those', 'helps', 'supplement', '30303', 'marmot', 'Pennsylvania', '15106', 'leather', 'express', 'kit', 'cushion', 'cold', 'air', '14', 'tonight', 'once', 'floor', 'specifically', 'Model', 'no', 'gas', 'grill', '2052012', 'Dallas', 'charge', 'extra', 'beauty', 'qualify', 'browsing', 'website', 'minimum', 'picking', 'toner', 'floral', 'daughter', 'complete', 'omega', 'rose', 'zip', 'wallet', 'Wheaton', '60187', 'navy', 'peach', '10', 'silk', 'couple', 'skater', 'WEB', 'sleeveless', 'feather', 'K', 'pink', 'gingham', 'medium', 'tunic', 'should', 'expect', 'Reno', 'likely', 'pneumatic', 'nailer', 'Palm', '34990', '1243617', 'softgels', 'line', 'white', 'watch', 'multiple', 'together', 'Are', 'rain', '8', 'change', 'covers', 'parents', 'add', 'alone', 'chrome', 'mini', 'Duet', 'Charlotte', 'decide', 'satchel', 'Detroit', 'Michigan', 'advanced', 'light', 'tower', 'sweet', 'brother', 'supreme', 'heels', 'cardigan', 'OR', '97204', 'tankini', 'galaxy', 'Grove', 'OH', '43123', 'Diego', 'B13009', '8R', '1675974', 'stripe', 'double', 'fit', 'textbook', 'textbooks', 'e', 'French', 'Oxford', 'brushed', 'nickel', 'hardware', 'Dewalt', 'hammer', 'drill', 'Birmingham', 'AL', '35209', 'trim', '16', 'vest', '20', 'striped', 'neck', 'sleeve', 'utility', 'cart', '527946', 'mom', 'wine', 'opener', 'big', 'reversible', 'iron', 'buying', 'Fiber', 'Mate', '105337', 'Under', 'Armour', 'Big', 'Tote', 'sweatshirt', 'First', 'notified', 'he', 'received', 'Fitness', 'Tri', 'Axess', 'Drawer', 'Computer', 'VA', 'fiber', '658010115704', 'Flip', 'Albuquerque', 'NM', 'Everest', 'Camo', 'Tablet', 'Bag', 'sets', 'Spencer', 'IA', 'Denver', 'Bruno', 'pocket', 'square', '60003', 'Backpack', 'Medium', 'Leather', '15212', '3.0', 'Net', 'System', 'Nordic', 'Naturals', 'Children', 'Liquid', 'Strawberry', 'Italian', 'cotton', 'blazer', '40', '/', 'wool', 'R', 'It', 'Calumet', '60409', 'another', 'note', 'got', 'go', 'even', 'tan', 'textured', 'online', 'Flash', 'Illuminator', '25', 'wood', 'nightstand', 'clutch', 'stud', 'been', 'searching', 'normal', 'run', 'terms', 'bleached', 'denim', 'Table', 'Saw', 'linen', '48', 'Wave', 'sunglasses', 'adjustable', 'women', 'down', 'foundation', 'Vitamix', 'sooner', 'bedside', 'Whitney', 'Reversible', 'Mat', 'mm', 'Day', 'numbers', 'Milk', 'Wool', 'Blazer', 'root', 'blend', 'organic', 'detox', 'tea', 'tablets', 'NLA', 'Her', '60', 'Yogi', 'Tea', 'caffeine', 'piece', 'luggage', 'woven', 'beach', 'look', 'Express', 'KS', 'find', 'share', 'promo', 'codes', 'reduced', 'Sierra', 'Designs', 'pattern', 'Choice', 'Lightweight', 'Unity', 'updates', 'progress', 'Clad', 'Stainless', 'Nonstick', 'sku', 'Brown', 'Twist', 'Floor', 'Lamp', 'wear', 'stay', 'pencil', 'Worcester', '01604', 'icon', 'polo', '145234', 'Smartcare', 'Fit', 'Shirt', 'LG', 'Blu', 'ray', 'player', 'Vega', 'One', 'In', 'Shake', 'Tulsa', 'Oklahoma', 'Disc', 'Player', 'pan', 'InSinkErator', 'Badger', '500', 'internet', '203144509', 'Hyattsville', '20782', 'Boys', 'Board', 'Shorts', 'Eileen', 'Fisher', 'top', 'tie', 'Front', 'Top', 'Boyfriend', 'Cardigan', 'Lens', 'gel', 'eyeliner', 'perfume', '84133', 'Stretch', '146070', 'blu', 'Task', 'Muscle', 'Love', 'Tank', 'grandiose', 'liner', 'garbage', 'disposal', 'Square', 'Amazon', 'upc', 'MI', 'Dymatize', 'ISO-100', '*', 'Ultra', 'Sony', '3D', 'Ray', 'swimsuit', 'Marine', 'Storm', 'Lab', 'receiver', 'Hazleton', '18201', 'service', 'such', 'FedEx', 'different', 'services', 'depending', 'curious', 'who', 'Anchorage', 'Alaska', 'domestic', 'rates', 'limited', 'lower', 'Organic', 'soy', 'SWF017', 'Bio', 'clock', 'system', 'Calabasas', 'drop', 'keyhole', 'Cabinet', 'Hensley', 'storage', 'cabinet', 'Bracelet', 'Wrap', 'red', 'midi', 'sheath', 'HP', 'Printer', '2256781', 'EFX', 'Kre', 'Alkalyn', 'Creatine', 'maxi', 'Flutter', 'Sleeve', 'Shift', 'Wall', 'knife', 'Des', 'Moines', 'Iowa', 'Crepe', 'Cutout', 'sports', 'bra', 'Cincinnati', 'Romper', 'Classic', 'Knife', 'Iron', 'printer', 'Creapure', 'SWU734', 'ensure', 'Ten', 'cartridge', 'pack', 'five', 'suggest', 'keep', 'low', 'suede', 'sneakers', 'fruit', 'Kaged', 'M', 'Rod', 'Brooks', 'boyfriend', 'Fishing', 'Myology', '015499', 'MuscleTech', 'gardenia', '108000', 'subwoofer', 'LED', 'bar', 'Place', 'Girls', 'Skater', 'WorkPro', 'Biochem', '015794018414', 'Bangle', 'frame', 'Rise', 'Tight', 'West', 'Hempstead', '11552', 'beautiful', 'close', 'Australian', 'cutting', 'board', 'cutout', 'flavored', 'MusclePharm', 'Combat', 'Farmhouse', 'Tiered', 'layer', 'briefcase', 'Fort', 'Santa', 'cobble', 'hill', 'Sleeveless', 'Cotton', 'Eyelet', 'Hollister', 'Textured', 'Icon', 'Jogger', 'Pants', 'Hammer', 'Drill', 'Lash', 'Primer', '149822', '243651', 'Sur', 'La', 'Ryobi', 'Knit', 'seats', 'North', 'SWU891', 'London', 'Times', 'Mosaic', 'evening', 'gown', 'Satin', 'Crystal', 'Chiffon', 'duffle', 'pop', 'Brooklyn', '11206', '11', 'sunflowers', 'JBL', 'JBLFLIP4BLKAM', '851770003254', 'Houston', 'quite', 'money', '$', 'stores', 'figured', 'Garmin', 'GPS', 'Navigator', 'actual', 'ideal', 'Jarrow', 'chocolate', 'Toe', 'Shoe', 'Dog', 'Tommy', 'Orson', 'Throw', 'BSN', 'Syntha-6', 'Premium', 'Matrix', 'Swanson', 'Chocolate', 'Tiger', 'gold', 'diamond', 'highlighter', 'District', 'Heights', '20747', 'Tony', 'Robbins', 'Breville', 'toaster', 'kind', 'pure', 'capsules', 'VS-1342/1045447', 'Port', 'Lucie', 'Florida', 'brand', 'store', 'Oak', 'Just', '\\n\\n', 'eligible', 'tiger', 'swanson', 'premium', 'SW925', 'Converse', 'Nashville', 'seriously', 'packs', 'flavormax', 'bundle', 'side', 'Universal', 'nutrition', 'UNN-04701', 'sending', 'placing', '000907', 'Platinum', 'Jacket', 'mother', 'Columbus', 'estimate', 'Rug', 'Lighting', 'Bronzer', 'Cocoa', '32927', 'Military', '487724AJ8', 'Face', 'Smart', 'Grill', 'Griddle', 'End', 'Womens', 'Jackets', 'Insulated', 'Liner', 'Band', 'Monohydrate', 'Moncler', 'BodyTech', 'OPN-02574', 'Stunning', 'Oriental', 'Bouquet', '95249', 'Hudson', 'NH', 'quick', 'questions', 'main', 'contact', 'company', 'tend', 'sorts', 'times', 'Cropped', 'Twill', '145668', 'street', 'Printed', 'drawstring', 'NOW', 'NWF876', 'Denim', '157689', '49018', 'Home', 'Lotus', 'Black', 'Chunky', 'rug', 'Duo', '648584', 'Cellucor', 'C4', '50x', 'Washington', '11050', 'Hooded', 'BT', '019462', 'Nebraska', 'Frye', 'Ankle', 'Back', 'Bow', 'DeWalt', 'saw', 'Spring', 'Star', 'bronzing', 'Evlution', 'VitaMode', 'Rock', 'Roll', 'Levi', 'Super', 'Skinny', 'Grand', 'Flat', 'Jeans', 'Seattle', 'WA', 'Simpli', 'Mid', 'Century', 'Wide', 'Bookcase-', 'Multivitamin-', '013046', 'Charge', '50', '21st', 'Multivitamin', 'CEN-22702', 'Select', 'Bookcase', 'top-', 'Prime', 'Food', '131215', 'ultimate', 'men', '80239', 'dryer', 'signs', 'We', 'building', 'pima', 'loafers', '98114', '98125', 'lip', 'Rossville', '30741', 'bookcase', '98124', 'along', 'city', 'without', 'bronze', 'Orlando', '3747508', '98118', 'Hotty', 'Hot', 'Osetra', 'B13184', 'Self', 'mid', 'rise', 'chino', 'crop', 'pants', 'popover', 'shirtdress', 'industrial', 'ivory', 'tall', 'Saffiano', 'Sunglasses', 'Jacquard', 'Pleated', 'Or', 'Myers', 'move', 'ahead', 'Orchard', 'Fruit', 'Basket', '96094', 'message', 'offered', 'tiny', 'Lauderdale', 'designer', '033744', '157716', 'Filander', 'Upholstered', 'Storage', 'Bedroom', 'Bench', 'HOEE1047', 'Athens', 'platform', 'heel', 'theater', 'laptop', 'goat', 'Belmont', 'link', 'metallic', '158907', 'Shoes', '7.5', 'couch', 'products', 'Choker', 'full', 'shake', 'VS-2865/1972926', 'conference', 'kitchen', 'faucet', 'Gift', 'Drapey', 'Scarf', 'Pure', 'Color', 'Envy', 'Lip', 'American', 'Standard', 'Kitchen', 'Faucet', 'scuba', 'flare', 'Wsthof', 'Morgantown', 'WV', 'rip', 'compact', 'd', 'Serum', 'cheese', 'treadmill', 'Ball', 'Complete', 'Clarity', 'Facial', 'Cleansing', 'vanilla', 'meal', 'replacement', 'drink', 'waterproof', 'Lafayette', 'LA', '70501', 'Mini', '016957', 'leg', '98106', 'Romy', 'pumps', 'raw', 'Boost', 'TV', 'Oregon', 'USB', 'They', 'Booster', 'Gardenia', 'gun', 'account', 'discounts', 'save', 'moving', 'forward', 'Realspace', 'Folding', 'Wisconsin', 'fast', 'paint', 'brush', 'Deerfield', '33442', 'Cuisinart', 'Coffee', 'Center', '12-Cup', 'Maker', 'Wear', 'Light', 'Stay', 'Makeup', 'Embroidered', 'Top-', 'NMF17_TS6ZK', 'Swiftly', 'Tech', 'Crew', 'bench', 'Original', 'dog', 'Pierre', 'Dakota', 'Saeco', 'Espresso', 'Hey', 'Glowlight', 'Marmot', '749944', 'oxford', 'Reclaimed', 'Wood', 'cable', 'crew', 'Tobacco', 'Dining', 'Artisan', 'Ruffle', 'Paint', 'Pearl', 'Bead', '485081A6X', 'Canyon', 'Parsons', 'question', 'James', 'Waterproof', 'Does', 'location', 'shop', 'person', 'department', 'Abercrombie', 'pick', 'blazers', 'display', 'fragrances', 'unsure', 'wide', 'selection', 'powders', 'near', 'Salem', 'ND', 'open', 'Mondays', 'places', 'speak', 'Lane', 'WI', 'opens', 'Tuesdays', 'miles', 'Quakertown', '18951', 'secondly', 'bought', 'only', 'types', 'returns', 'Shoppe', 'Barnes', 'Noble', 'anywhere', 'special', 'sales', 'making', 'trip', 'local', 'layaway', 'program', 'Mall', 'SoHo', 'oval', 'S8', 'section', 'maker', 'price', 'Market', 'MN', 'however', 'other', 'locations', 'town', 'cameron', 'byrdie', 'kettle', 'Old', 'L', 'N.', 'Blvd', 'Plaza', 'Where', 'closest', 'Victoria', 'Secret', 'relation', 'De', 'reserve', 'picked', 'app', 'always', 'prices', 'ever', 'exchange', 'purchasing', 'Doddle', 'collection', 'Marks', 'through', 'JCrew', 'Brothers', 'visiting', 'Chattanooga', '37421', '30', 'here', 'originally', 'Macys', 'Mineral', 'Springs', 'Ave', 'Providence', 'RI', 'mirror', 'little', 'inconvenient', 'Staples', 'Gap', 'Pottery', 'Barn', 'Kohls', 'Office', 'Depot', 'Lands', 'best', 'far', 'away', 'directly', 'reason', 'everything', 'needed', 'sale', 'happening', 'safe', 'assume', 'Neiman', 'Marcus', 'Elm', 'priced', 'cheaper', 'Shelbyville', 'Road', 'Louisville', '40207', 'call', 'Lululemon', 'hours', 'Toledo', 'herbs', 'does', 'Room', 'Saks', 'Pier', 'LL', 'Bean', 'Springfield', 'typically', 'wall', 'balance', 'Say', 'traveling', 'where', 'actually', 'purchased', 'Rd', 'Garden', 'Ridge', 'S', 'Imports', 'mailing', 'Kohl', 'Ralph', 'Lauren', 'polishing', 'Outdoor', 'Lantern', 'guys', 'Charles', 'Street', 'easier', 'Sundays', 'outdoor', 'St', 'jean', 'jackets', 'closes', 'L.L.', 'Drive', 'offers', 'sexual', 'health', 'Weber', 'fan', 'Manhattan', 'elsewhere', 'fleece', 'lined', 'family', 'Odenton', '21113', 'Fifth', 'Avenue', 'Hallowell', '04347', 'book', 'mailbox', 'interested', 'closet', 'information', 'seeing', 'point', 'too', 'late', 'rogue', '59235', 'button', 'Shopping', 'charms', 'continuance', 'twist', 'mask', 'Toms', 'River', '08753', 'Raleigh', 'Carolina', '27602', 'cedar', 'harmony', 'good', 'movies', 'books', 'afraid', 'cards', 'correct', 'present', 'their', 'stop', 'past', 'p.m.', 'wasted', 'projectors', 'ottoman', 'couches', 'So', 'pricing', 'matter', 'loveseat', 'Central', 'regarding', 'ability', 'individual', 'inventories', 'specific', 'Petite', 'Pave', 'visit', 'discount', 'mass', 'gainer', 'better', 'visited', 'mats', 'blouse', 'Brookfield', 'L.L.Bean', 'Boulder', 'kill', 'choosing', 'Kate', 'Spade', 'furniture', 'islands', 'carts', 'deals', 'aware', 'Bronze', 'Goddess', 'Daniel', 'Webster', 'Hwy', 'Nashua', 'King', 'Of', 'Prussia', '538540', 'East', 'Coach', 'There', 'throughout', '537878', 'Henderson', 'stuff', 'Brow', 'Pencil', 'N', 'Main', 'Anderson', 'become', 'member', 'Bryant', 'washer', 'Le', 'Nazareth', 'shopping', 'brow', 'expected', 'ground', 'already', 'must', 're', 'well', 'Tusclaloosa', 'Brick', 'knew', 'Paul', 'Minnesota', 'Cleveland', 'Meyers', 'Blush', 'Subtil', 'Palette', 'Sculpting', 'Illuminating', 'Contour', 'answer', 'Vidalia', 'parking', 'Milwaukee', 'Harper', 'Sunday', '65805', 'breakroom', 'Jersey', 'lighting', 'music', 'Akron', 'CC', 'Independence', 'washing', 'machine', 'jewelry', 'though', 'max', '1/2', 'potentially', 'Hillside', 'Delafield', 'Fridays', 'watches', 'Sarasota', 'desks', 'face', 'wash', '1009406', 'Buffalo', 'tough', 'temporarily', 'living', 'drive', 'swimsuits', 'handle', 'liquid', 'care', 'moisturizer', 'Way', 'sofas', 'laptops', 'oz', 'Resilience', 'Neck', 'Creme', 'Highway', 'Suburban', 'Newark', 'DE', 'weekend', 'Eye', 'Shadow', 'black', 'pull', 'bring', 'try', 'pair', 'makes', 'difference', 'combat', '153451', 'Sperry', 'chukkas', 'Smoky', 'Nights', 'Hitachi', 'Dixie', 'Pinecrest', 'exact', 'Elegant', 'lamps', 'boot', 'sconce', 'lights', 'chukka', 'ones', '461875', 'Surge', 'jogger', 'Eastland', '127039', 'until', 'water', 'shoe', 'son', 'Blue', 'linked', 'arctic', 'sport', 'twill', '22', 'Lincoln', 'weekends', 'decent', 'ties', 'squares', 'Dayton', 'area', 'honor', 'type', 'list', 'emails', 'exclusively', 'clearance', 'goes', 'reimbursed', 'thing', 'cocktail', 'update', 'put', 'outdoors', 'marked', 'apply', 'advantages', 'creating', 'create', 'access', 'exclusive', 'bags', 'Joan', 'Arctic', '7333234', 'coupons', 'discontinue', 'liquidation', 'browse', 'referral', 'points', 'referring', 'shopper', 'seat', 'subscribers', 'discounted', 'promotions', 'cleansing', 'wipes', 'deal', 'benefits', 'dresses', 'moment', 'Jet', 'current', 'membership', 'discontinued', 'ottomans', 'Any', 'running', 'Minnetonka', 'slippers', 'new', 'active', 'tried', 'Google', 'ton', 'spam', 'newsletter', 'promotional', 'per', 'month', 'rewards', 'customers', 'earn', 'toward', 'purchases', 'learn', 'members', 'join', 'baskets', 'automatically', 'anniversary', 'Celebrations', 'Rewards', 'Valentine', 'closeout', 'wedding', 'HDTVs', 'inches', 'mine', 'worth', 'immediate', 'perks', 'expire', 'Bodybuilding.com', 'Lucky', 'iHerb', 'coupon', 'ceiling', 'signing', 'advertise', 'social', 'media', 'pages', 'fringe', '55', 'years', 'old', 'seniors', 'match', 'competitors', 'offering', 'into', 'general', 'marketing', 'competitor', 'ca', 'else', 'roll', 'restrictions', 'chandelier', 'tight', 'budget', 'register', 'upcoming', 'fishing', 'gear', 'often', 'mails', 'notifications', 'Facebook', 'fans', 'Twitter', 'paying', 'closer', 'normally', 'essentials', 'more', 'HDTV', 'never', 'seems', 'obvious', 'made', 'real', 'carrying', 'handbag', 'cover', 'guest', 'joining', 'B', 'shift', 'picky', 'similar', 'accounts', 'following', 'sportscoat', 'page', 'checking', 'Ceiling', 'final', 'bargain', 'hunter', 'dresser', 'multi', 'function', 'pot', 'sites', 'follow', 'Instagram', 'Snapchat', 'fashion', 'ideas', 'styles', 'lingerie', 'currently', 'please', 'Thanks', 'Crossover', 'X', 'due', 'Crisp', 'Microwave', 'signup', 'larger', 'quantities', 'automatic', 'reviews', 'Wayfair', 'giving', 'own', 'messages', 'happened', 'version', 'leaving', 'bonus', 'turned', 'age', 'group', 'hiking', 'tents', 'reading', 'refer', 'advantage', 'lost', 'cash', 'sitewide', 'Body', 'Con', 'policy', 'Infinite', 'heard', 'eyeshadow', 'pallates', 'cartridges', 'opposed', 'search', 'signed', 'Digital', 'Electric', 'But', 'doing', 'ft', 'Washer', 'year', 'mattress', 'pads', 'Stax', 'Cuff', 'Diamonds', 'Energy', 'programs', 'tuxedos', 'life', 'issue', 'net', 'tem', 'reimburse', 'favorite', 'Miracle', 'handbags', 'Vitamins', 'hydrangea', 'plants', 'bluetooth', 'speakers', 'coffee', 'David', 'Yurman', 'companies', 'soundbars', 'Zappos', 'part', 'Porter', 'pm', 'matching', 'example', 'situation', 'yours', 'garden', 'AARP', 'scanner', 'combos', 'camping', 'opening', 'wishlist', 'feature', 'tag', 'drops', 'including', 'Advanced', 'strapped', 'supplements', 'several', 'stack', 'Moisture', 'generally', 'featured', 'diet', 'charger', 'fixture', 'separate', 'used', 'machines', 'Velvet', 'Lipstick', 'athletic', 'help', 'spring', 'starting', 'winter', 'bunch', 'pre', 'workout', 'Chewy', 'refund', 'fur', 'trimmed', 'bomber', 'stolen', 'provider', 'rash', 'thefts', 'neighbourhood', 'unfortunately', 'Blend', 'V', 'receiving', 'circle', 'pendant', 'neighborhood', 'unfortuantely', 'confetti', 'narrow', 'cuff', 'flavor', 'trying', 'bouquet', 'flowers', 'die', 'Gold', 'refunds', 'debit', 'process', 'processed', '--', 'onto', 'm', 'immersion', 'proactive', 'returning', 'iitem', 'Pedestal', 'across', 'Large', 'rule', 'T3', 'styling', 'slip', 'becomes', 'necessary', 'wheel', 'cap', 'SWU477', '157722', 'under', 'armour', 'rate', 'fits', 'OP-1011/1629526', '533828', 'nt', 'Cross', 'potential', 'Tool', 'restocking', 'processing', 'worry', 'quilted', '148599', 'Regular', 'chinos', 'slim', 'portable', 'Let', 'say', 'high', 'weeks', 'hanging', 'stocking', 'unopened', 'flower', 'arrangement', 'expecting', 'pipe', 'menthol', 'ice', 'tobacco', 'pub', 'caught', 'Before', 'limitations', 'exchanging', 'cute', 'diamonds', 'griddle', 'skirt', 'car', 'scent', 'control', 'include', 'labels', 'mg', 'Zero', 'Smudge', 'Eyeliner', '1122985', 'Edie', '147691', 'demi', 'still', 'plan', 'straight', 'tights', 'whole', 'works', 'returned', 'issues', 'loop', 'poplin', 'entirely', 'apple', 'cider', 'vinegar', 'wrap', 'Training', 'Station', 'Rabbit', 'packing', 'label', 'included', 'original', 'outright', 'deducted', '43', 'situations', 'passed', '5507830', 'nervous', 'hair', 'Gel', 'why', 'longer', 'timeframes', '2139392', '353702', 'reader', 'wanting', 'Button', 'Hanes', 'Fleece', 'GRANDISE', 'Angle', 'Effect', 'Rising', 'Salutation', 'refunded', 'ended', 'missing', 'savings', 'Speaking', 'walnut', 'writing', 'ski', 'easily', 'responsible', 'limits', 'bed', 'Foam', 'Mattress', 'ends', 'green', 'PrimaLoft', 'Pad', 'California', 'king', 'cat', 'Fringe', 'liking', 'eat', 'wrong', 'asked', 'foam', 'G0874', 'touch', 'entire', '300', 'youor', 'crossover', 'ten', 'single', 'truck', 'KitchenAid', 'Reebok', 'moved', 'nitric', 'oxide', 'towards', 'Fields', 'Europe', 'short', 'recoup', 'blow', 'last', 'flutter', 'Cleanser', 'Aeropostale', 'Sheer', 'Blouse', 'Raw', '1344209', 'leaning', 'decorative', 'pillow', 'keeping', 'Red', '304556', 'Gentle', 'pillows', 'Chair-', 'wind', 'Scanpan', 'rack', 'Print', 'Warm', 'knit', 'AL-360', 'Pillow', 'game', 'puzzle', 'sees', '3034188', 'Trail', 'ENGN', 'Shoulder', 'mount', 'equal', 'value', 'bottle', 'exceptions', 'caring', 'pizza', 'oven', 'Oven', 'Too', '...', 'Dawson', 'room', 'Industrial', 'beads', 'staple', 'model', 'Ring', 'Parka', 'round', 'Leg', 'Marotta', 'exactly', 'Emerson', 'Whistler', 'adidas', 'trail', 'ME-1074/2013803', 'realize', 'most', '30-day', 'limit', 'extensions', 'beforehand', 'defect', 'super', 'skinny', 'Hampton', 'Mavi', 'throw', 'Mankind', '511', 'tee', 'Cushion', 'Pharm', 'Concealer', 'Smoothing', 'Base', 'shopped', 'setting', 'CX1200', 'Natural', 'tree', 'True', '34', 'Desk-', '7593531', 'Portica', 'Studio', 'Bonded', 'Power', 'Recliner', 'Living', 'B01FTW3YQ0', 'partial', 'beyond', 'event', 'Open', 'mirrored', 'Cage', 'tassel', 'Up', 'Your', 'Mass', 'MHP014', 'Balance', 'Chrome', 'returnable', 'Chain', 'PayPal', 'Gainer', 'Lips', 'Suede', 'Ballet', 'Lole', 'Collar', 'Trench', 'Parker', '5380980', 'Sweet', '91158', 'Tamer', 'cig', 'Mesh', '136815', 'Best', 'Products', 'Serious', 'particular', '2910547', 'wheat', 'grass', 'taste', 'Beauty', 'Moto', 'children', 'gummy', 'gainers', 'Water', 'Bomber', 'njmu7610', '18', 'strawberry', 'Hoodie', 'initials', '5x8', 'Shag', 'gray', 'Dish', 'Dalton', 'Yummi', 'Bears', 'Chatelaine', 'exchanges', 'Floral', 'packable', 'ink', 'means', 'adapter', 'Omega-3', 'olive', 'nylon', 'fatigue', '523285', 'dark', '149426', 'Mix', '141487', 'TEN', 'OF', 'FLAVORMAX', 'CARTRIDGES', 'digital', 'T', 'Ladies', 'Metallic', 'tulle', 'Fire', '2071477', 'french', 'fridge', 'shorts', 'Lenovo', 'Popover', '24', 'Toaster', 'Matte', '1511823', 'Woven', 'Chambray', 'Confetti', 'blanket', 'ANDO1425', 'bedroom', 'MSF-70386', 'ready', 'Faux', 'fitting', 'covering', 'Tarte', '8379708', 'Creamy', 'Vanilla', 'Rapid', 'Charger', 'many', 'appliance', 'colorblock', 'VS-2269/1565605', '205216309', 'band', 'platinum', 'slightly', 'tank', 'Club', 'lifting', 'robe', 'bars', 'file', 'enough', 'Vans', 'ons', 'Jack', 'Sneaker', 'design', 'matte', 'Watch', 'Maker-', 'cardor', '623413', 'websites', 'continue', 'unable', 'sound', 'quality', 'Quest', 'QST-00002', 'converse', 'Crunch', 'BNR005', 'Passion', 'Tulips', '147128', 'Royal', 'Joie', 'Slim', 'Coat', 'Sharpener', 'Rain', 'SwissGear', 'Logo', 'Graphic', 'Nylon', 'Global', 'Blanket', 'You', 'Synchros', 'found', 'Lasko', 'shelving', 'guests', 'wants', 'form', 'read', 'countertop', '2058998', 'smart', '2515880', 'SS', 'perfect', 'sophie', 'classic', 'offhand', 'removed', 'washed', 'padded', 'interior', 'breastpocket', 'storing', 'gloves', 'either', 'robes', 'length', 'between', 'thicknesses', 'chains', 'necklaces', 'measurement', 'pendents', 'UAJBLWIRELESSB', 'UAJBLIEBTBLK', 'earbud', 'sizes', 'ears', 'realm', 'monk', 'strap', 'straps', 'functional', 'show', 'primer', 'absorb', 'minimize', 'pores', 'vs.', 'charging', 'Which', 'HDMI', 'ports-', '49', 'power', 'cord', 'peanut', 'butter', 'carbohydrates', 'serving', 'gluten', 'panel', 'headboard', 'hardwood', 'mix', 'pieces', 'metal', 'support', 'Perfecting', 'fudge', 'brownie', 'Supreme', 'Bars', 'jelly', 'chip', '155071', 'salt', 'narrowed', 'compressors', 's', 'pressure', 'each', 'hand', 'Funnel', '127412', 'anorak', 'waist', 'jersey', 'ruched', 'ports', 'compared', 'professionally', 'cleaned', 'USA', 'important', 'pages-', 'John', 'Grisham', 'ongoing', 'series', 'Sofa', 'nautica', 'collar', 'pockets', 'lane', 'zipper', 'cookie', 'dough', 'raspberry', '12', 'boys', 'thicker', 'and/or', 'warmer-', 'sherpa', 'cross', 'SSADI', 'turkish', 'plush', 'push', 'Bite', 'Urban', 'Decay', 'sulfates', 'sulfate', '15', 'Acer', 'cookies', 'cast', 'Staub', 'Creuset', 'seasoned', 'surface', 'string', 'trimmer', 'shaft', 'warranty', 'comfort', 'sofa', 'puffer', 'Chelsea', 'waffle', 'pique', 'pant', '250', 'inseam', 'shorter', 'height', 'describe', 'footbeds', 'pairs', 'coworker', '96099', 'allergy', 'foams', 'foaming', 'properties', 'contains', 'screen', 'resolution-', '15.6', 'Core', 'RAM', 'HDD', 'Windows', 'Inspiron', 'inch', 'TB', 'Adapter', 'Between', 'tops', 'bulky', 'Nutritious', 'Radiant', 'Vitality', 'stones', 'lumen', 'output', 'Replacement', 'Headlight', 'idea', 'whether', 'UA', 'breaker', 'Merrell', 'Flight', 'warmer', 'Technical', 'Baby', 'Turnlock', 'baby', 'durable', 'material', 'helpful', 'Roar', '+', 'BRSD3619', 'Warmest', 'snorkel', 'Junk', 'B1908', 'AK-360', 'fragrance', 'fruity', 'chest', 'built', 'Reach', 'Alana', 'Glass', 'Belt', 'housing', 'powerful', 'brightness-', 'Coleman', 'Flashlight', 'devices', 'inseam-', 'Pant', 'Fuel', 'mens', 'Softshell', 'Puffer', 'Quilted', 'ovens', 'v', '141166', 'natural', 'materials', 'cholesterol', 'consumption', 'dairy', 'Heritage', 'jumpsuit', 'washable', 'row', 'clasps', 'AMX-22516', 'JRW-21014', 'genuine', 'bronzer', 'shimmer', 'effect', 'Unit', 'dad', 'downloaded', 'lighter-', 'Scarpa', 'lining', '148245', 'mixed', 'lilies', 'overall', 'Barest', 'Cream', 'Signature', 'life-', 'pound', 'caramel', 'bean', 'Epson', 'prints', 'TA300454', 'custom', 'entryway', 'conditioner', 'GE', 'timer', 'exfoliating', 'Brother', '360000', 'gourmet', 'hidden', 'Satchel', '34340', 'Mercer', 'supima', 'mesh', 'modern', 'Kane', '91918', 'utensil', 'copper', 'stainless', 'steel', 'Mason', 'Lacoste', 'Burberry', 'longer-', '060', 'Emmerson', 'Carroll', 'multivitamins', 'C', 'Polo', 'moisture', 'wicking', 'shirts', 'reinforced', 'toes', 'plant', 'flowering', 'height-', 'He', 'likes', 'his', 'composed', 'Toyota', 'specialty', 'woody', 'bench-', 'Belle', 'tech', 'sweat', 'relaxed', 'variety', 'settings', 'clean', 'NW-1289/1762245', 'smooth', 'Its', 'hard', 'picture', '0400093153617', '0400092320042', 'bootie', 'wider-', '9230538', 'upholstered', 'fabric', 'Both', 'Generac', 'generator', 'fuel', 'Hunter', 'Faced', 'watson', 'weekender', 'Ecru', 'urban', 'looser', 'padding', 'removable', 'AL-323', '920', 'lasts', 'Gore', 'Tex', 'Asian', 'Timberland', 'Boot', 'Nubuck', 'Size', 'W', 'Sport', 'earbuds', 'Wireless', 'higher', 'volume', 'wider', 'ALCT3757', 'Revitalizing', 'very', 'oily', 'skin', 'Fashion', 'Polar', 'Casual', 'larger-', 'QuestBar', 'QST040', 'CLF061', '2014', 'Cigarette', 'Battery', 'Green', 'aqua', '019322', 'lightweight', 'Adidas', 'Running', 'lighter', 'itself', 'tongue', 'Chaise', 'stains', 'Calvin', 'uncomfortable', 'Bar', 'cashmere', 'Arrow', 'electric', 'BS00240', 'Boden', 'Armani', 'logo', 'blush', 'Nars', '1774587', 'sheer', 'finish', 'drawer', 'filing', 'cabinets', 'space', 'qt', 'dutch', '9502220', 'kids', 'Banks', 'crewneck', '400', 'Shine', 'blueberry', 'bralette', 'AL-361', 'robson', 'petite', 'lemon', 'easy', 'remove', 'makeup', 'coconut', 'total', 'indoor', 'train', 'indoors', 'warms', 'again', 'soles', 'monohydrate', 'Supps', 'Mr.', 'optimum', 'foods', 'Deluxe', 'Hiking', 'Bottega', 'Veneta', 'Gucci', 'E55BT', 'formulas', 'Pall', 'cigarette', 'nicotine', 'level', 'varsity', 'half', 'Lean', 'filling', 'Starburst', 'Full', 'peacoat', 'Leggings-', '-Model', 'pedestal', 'roaster', 'smaller-', 'Mainstay', 'Down', 'Meal', 'shine', 'heel-', 'Giorgio', 'pxru7630', 'Surface', 'Barbour', 'jacket-', 'Lamp-', '801063', '645103', 'Instant', 'Jacket-', 'ThermoBall', \"L'ABSOLU\", 'ROUGE', 'Lite', 'turnlock', '36855', 'edie', '57933', 'Box', 'Boy', 'Arctix', 'Packs', 'wallets', 'arrangements', 'bright', 'Andrea', 'Electronics', 'Headset', 'iPhone', 'router', 'range-', 'Woodwind', 'hold', 'microwave', 'wattage', 'Vineyard', 'palmetto', 'artificial', 'flavoring', 'tasting', 'Other', 'voltage', 'differences', 'Drill-', 'weigh', 'Nature', 'Palmetto', 'Berries', 'Formula', 'Sundown', 'brown', 'B5', 'Doctor', '33', 'inside-', 'BPA', 'Streamline', 'palette', 'slimmer', 'resistant', 'Sourcils', 'Dual', 'Brush', '9.5', 'Rampage', 'mountaineering', '42.5', 'Sportiva', '18116', 'weather', 'transplanted', 'planter', 'Bundle', 'bundles', 'Vasque', 'Chloe', '38.5', 'Camco', 'heavier', 'load', 'SB', 'soundbar', 'JBLSB450BLKAM', 'CINEMASB350', 'lines', 'detachable', 'hood', 'lasting', 'reapply', 'tempo', 'chelsea', '322839', 'cards-', '83', 'inside', 'Ellison', 'Recliners', '536342', 'printers', 'duo', 'longest', 'yard', 'Decker', 'Rhys', 'century', 'recliner', 'takes', 'fully', 'charge-', 'vape', 'KIT', 'PRO', 'components', 'calories', 'Dr.', 'Cactus', 'concrete', 'planteris', 'watts', 'connect', '11.5', 'Durango', 'Talitha', 'taller', 'Sneakers', 'UGG', 'Renew', 'strap-', 'comfortable', 'spots', '1478403', 'capability', 'BENCH', 'Buckle', '236939', '142229', '142017', 'Protective', 'Undereye', 'Coverage', 'Crop', 'Bijoux', 'N09519', 'School', 'BAG', '23', 'Range', 'Gas', 'shut', 'Logitech', 'keys', 'counter', 'range', 'cooking', 'Vachetta', '39', 'Cole', 'Haan', 'Warren', 'LF2102', 've', 'houseplants', 'batteries', 'sweaters', 'Cutting', 'Boos', 'Walnut', 'Low', 'Tops', 'serving-', 'FitJoy', 'Keds', '6.5', 'Canvas', 'boy', 'Stud', 'coral', 'QST042', 'Looking', 'concealer', 'circles', 'Oscillating', 'tools', 'extension', 'sanding', 'pad', 'separately', 'Nike', '10.5', 'Tights', 'Altra', 'bookshelf', 'space-', 'Console', '9h', 'Youth', 'SPF', '054472', 'oscillating', 'Puma', 'coverage', '1678937', 'soft', 'canvas', 'hobo', 'Watson', 'Cameron', 'yellow', 'Mizuno', 'toe', 'offsets', 'smaller', 'quality-', 'input', 'messenger', 'compartment', 'Air', 'ASICS', 'GEL', 'TA287413', 'said', 'scrubs', 'sugar', 'exfoliate', 'treatment', 'added', 'exfoliant', '786560557146', 'chunk', 'Wallace', 'C1174', 'food', 'scale', 'turtleneck', 'cake', 'Pearce', 'reclined', 'pave', 'Liliana', 'bird', 'armchair', 'Solo', 'count', '583792', 'bulb', 'swallow-', 'Animal', 'ankle', 'daily', 'drape', 'dish', '1828', 'Bearpaw', 'Alive', 'pulley', 'task', '164252', 'raised', '322841', '322827', 'weight', 'capacities', 'friendly', 'reduce', 'fine', 'inner', 'zippered', 'compartments', 'Wellie', 'Makala', 'block', 'NARS', 'Bootie', 'Majorca', '5279828', '474048X6X', 'Steve', 'Madden', 'proteins', 'samsonite', 'shorter-', 'fit-', 'Missoni', 'crepe', '748927028706', 'Nitro', 'lb', 'portfolio', 'lily', 'grandmother', 'Malone', 'Campaign', 'Chifforobe', 'beeswax', 'Boxer', 'Anti', 'Wok-', 'Elite', 'dishwasher', 'Briefcase-', 'Wok', 'boots-', 'Treatment', 'Tint', 'briefcases', 'Tall', 'Delta', 'includes', 'drain', 'assembly', 'Faucet-', 'Booties', 'Balm', 'Scrub', 'caffeine-', 'sodium', 'Drink', 'VPX', 'Bang', 'Hydrate', 'Max', 'Performance', 'Orange', 'Cooler', 'colored', 'glass', 'vase', 'colors', 'Sparkling', 'MA-1', 'camera', 'dimensions', 'snow', 'saddle', 'feeling', 'greasy', 'jar', 'bomb', 'JM', 'Kalamazoo', 'Portable', 'Small', 'Satchel-', 'tote-', 'F5237', 'Sophie', 'texture', 'Saw-', 'switch', 'locked', 'Silver', 'Quartz', 'fold', 'clasp', 'closure', 'fat', 'bar-', '838766080192', 'sleeper', 'feel', 't', 'Pulse', 'known', 'volumizing', 'quicker-', 'grind', 'chamber', 'noise', 'insulated', 'quiet', 'Skechers', 'Tee', 'Bunn', 'cup', 'mustique', 'R13249DS8KTRPRDI', 'vintage', '710654', 'sneaker', 'Metal', 'Drop', 'HD', 'Killing', 'Bill', \"O'Reilly\", 'Blouses', 'PIANURASTUDIO', 'orange', 'cords', 'JYM', 'drawers', 'head', 'Diamond', 'formula', '4-Drawer', '495800', 'DayWear', 'Protection', 'Oxidant', 'Benefit', '9-Cup', 'Processor', 'Milly', 'Collection', 'Nightstand', 'Lacquer', 'Chef', '606242', 'Curb', 'thick', 'diameter', 'preservatives', 'Adeline', '097467299825', 'essential', 'Xtreme', '360', 'B01DXBB0K6', '51699', '57216', 'laser', 'cut', '174474', 'eliminating', 'parasites', 'caps', 'liver', 'sell', 'simple', 'beanie', 'hats', 'plain', 'blonde', 'kelp', 'cherry', 'shelves', 'sections', 'ballerina', 'novels', 'written', 'quartz', 'Greenworks', 'These', 'locking', 'skewers', 'wooden', 'Sometimes', 'mess', 'mirrors', 'cluster', 'SOURCILS', 'ment', 'blond', 'brows', 'false', 'eyelashes', 'TOMS', 'shoelaces', 'flavors', 'bath', 'loves', 'backpacks', 'shear', 'splendor', 'shampoo', 'stand', 'season', 'plum', 'stemless', 'glasses', 'tumblers', 'traditional', 'tables', 'basic', 'methyl', 'B-12', 'spaced', 'powered', 'carry', 'bottles', 'unpadded', 'underwire', '38DD', 'nude', 'furry', 'complexion', 'tone', 'suitable', '75', 'needs', 'huge', 'sized', 'bouquets', 'purple', 'silver', 'Have', 'garage', 'unit', 'besides', 'secondly\\\\', 'sleeves', 'maroon', 'Whirlpool', 'rugs', 'Also\\\\', 'sharpie', 'markers', 'rings', 'non', 'stick', 'panis', 'shaker', 'dot', 'tags', 'maximum', 'poem', 'shade', 'fair', 'based', '72266', 'Correcting', 'Night', 'performance', 'maple', 'corner', 'dining', 'Micro', 'Limitless', 'Special', 'Edition', 'training', 'forever', 'thickest', 'warmest', 'wormwood', 'cubes', 'frozen', 'inserted', 'cocktails', 'purse', 'capacity', 'chain', 'gym', 'attire', 'capri', '7/8', 'casein', 'pills', 'cleanse', 'woman', 'scarves', 'Duplex', 'hat', 'tempurpedic', 'twin', 'Mustang', 'cook', 'moccasins', 'rectangular', 'snap', 'layered', '100299', 'pictured', 'preferably', 'largest', 'measure', 'Eric', 'glossy', 'wheels', 'bottom', 'cookware', 'glutamine', 'medo', 'sterling', 'roman', 'numerals', 'brushes', 'definitely', 'lock', 'key', 'lanterns', 'least', 'charged', 'popular', 'construction', 'paper', 'sheets', 'smores', 'darker', 'golden', 'neutral', 'undertone', 'aside', 'bead', 'SBHBOHE48', 'vibrant', 'loving', 'openers', 'skirts', 'youth', 'bowties', 'pears', 'beds', 'memory', 'Carrying', 'Case', '70', 'valerian', 'astragalus', 'cutters', 'sold', 'demolition', 'sledgehammers', 'dramatic', 'gaming', 'projector', 'armless', 'charcoal', 'headbands', 'absorbing', 'kits', 'meant', 'finding', 'controls', 'queen', 'cowhide', 'socks', 'foot', 'aviator', 'lenses', 'application', '100497987', 'sit', 'roofing', 'nailers', 'streaming', 'superfood', 'smallest', 'shaved', 'beverages', 'bracelets', 'contouring', 'beginner', 'festival', 'lash', 'probiotics', 'systems', 'plastic', 'tiers', 'bins', 'star', 'carried', 'waterline', 'Earrings-', 'monogrammable', 'hunt', 'vinyl', 'players', 'chairs', 'succulents', 'popcorn', 'makers', 'chewable', 'energy', 'tones', 'Aging', 'programed', 'awesome', 'shadow', 'cardigans', 'secured', 'Pretty', 'Blooming', 'breath', 'playing', '17', 'marble', 'coasters', 'sandals', 'espadrilles', 'adults', 'monitors', 'video', 'appliances', 'chaise', 'lounges', 'umbrellas', 'pits', 'lobster', 'tails', 'clay', 'cases', 'ounces', 'deer', 'antler', 'recommend', 'sculpting', 'fitted', '42R', 'belts', 'scoopneck', 'comprehensive', 'barrel', 'avail', 'barrels', 'quart', 'slow', 'cookers', '150-$200', 'aid', 'contain', 'drinks', 'espresso', 'Bloom', '18650', 'lavender', 'HL', 'L6200DW', 'Mono', 'working', 'slate', 'pavers', 'meet', 'specs', 'sits', 'above', 'knee', 'whisks', 'testosterone', 'boosters', 'designed', 'skillet', 'E12929D88ADI', 'garlic', 'capsule', 'Eyeshadow', 'pro', 'royal', '80', '6s', 'cages', 'cockatoo', '16x20', 'frames', 'border', '149509', 'container', 'harness', 'adult', 'boxer', 'measurements', 'male', 'Fur', 'materialis', 'sole', 'thickness', 'bigger', 'temperature', 'rating', 'cancelling', 'older', 'panini', 'press', 'plates', 'aluminum', 'constructed', 'compose', 'bathroom', 'vanity', 'grams', 'breasted', 'computers', 'USBs', 'annoying', 'removeable', 'Chino', 'vegetarian', 'stretchy', 'conditioning', 'lips', 'dry', 'probiotic', 'frequency', 'response', 'IZOD', 'comfortably', 'Probiotic', 'Slipper', 'Hey\\\\', 'fastener', 'European', 'knives', '20385', 'envelope', '8aru1893', 'flap', 'difficult', 'scarf', 'clog', '1.5', 'supposed', 'taken', 'Playsuit', 'IT', 'soda', 'UV', 'rigid', 'About', 'Duffel', 'resolution', 'mode', 'width', 'casserole', 'casters', 'toddler', 'sorry', 'attend', '10-plus', 'B-6', 'contained', 'booster', 'seem', 'trouble', 'proper', 'recline', 'Goggles', 'bunk', 'Control', 'pulse', 'buttondoes', 'cuts', 'fence', 'toggle', 'megapixel', 'joggers', 'Yoga', 'moto', 'Away', 'Crown', 'whenever', 'Silk', 'sharpened', 'approximate', 'cooker', '13', 'BCAA', 'brewer', 'B00EAQJCWW', 'vacuum', 'dead', '1488352', 'slanted', 'grates', 'enameled', 'harding', 'daisies', 'telling', 'eco', 'boost', 'Natrol', 'Melatonin', 'ingredients', 'melatonin', 'bother', 'Fountain', 'Juicer', 'wanna', 'juicer', 'spills', 'diary', 'RR', '2800260', 'ocean', 'tongs', 'prone', 'shrinking', 'asking', 'wrist', 'lightbulb', 'recommended', 'processor', 'kiwis', 'basketis', 'wrinkle', 'reduction', 'UPF', 'protection', 'smudge', 'Our', 'looked', 'filthy', 'manufacturer', 'solo', 'niacin', 'concerned', 'testing', 'tested', 'animals', 'pallet', 'Mauviel', 'Roaster-', 'uses', 'cycle', 'weighs', '520451', 'biotin', 'canned', 'blades', 'applicator', 'watching', 'cooler', 'swivel', 'Dehumidifier', 'sander', 'attachment', 'graphic', 'cups', 'plier', 'Sharpener-', 'sharpener', 'Tripod', '3993289', 'Testosterone', 'refrigerated', 'MSC-60311', 'Leatherman', 'scissors', 'Lipgloss', 'moisturizing', 'Treadmill', 'motor', 'flipped', 'sided', 'consumed', 'preheat'])"
            ]
          },
          "metadata": {},
          "execution_count": 21
        }
      ]
    },
    {
      "cell_type": "code",
      "metadata": {
        "colab": {
          "base_uri": "https://localhost:8080/"
        },
        "id": "a1K-oWEDkoVU",
        "outputId": "61466c2b-2941-472c-af65-b2851b08c2a6"
      },
      "source": [
        "model.wv.get_vector(\"what\")"
      ],
      "execution_count": null,
      "outputs": [
        {
          "output_type": "execute_result",
          "data": {
            "text/plain": [
              "array([-0.02264759, -4.6633573 ,  3.058421  , -0.5871129 ,  0.24694517,\n",
              "       -4.9551587 , -1.3352386 ,  0.14635889, -0.04000574, -1.9246098 ,\n",
              "       -0.6507876 , -0.23200956, -0.33422017, -1.5090854 , -1.4801227 ,\n",
              "       -3.132685  , -0.36406106,  0.52542394, -5.375976  , -1.5378294 ,\n",
              "       -4.313433  , -3.4501147 ,  5.3353505 ,  3.2658985 , -0.94215757,\n",
              "        1.2576463 , -0.19744503, -0.6881295 ,  4.9623494 , -1.0149256 ,\n",
              "        5.514855  , -2.4194968 , -1.9533268 , -5.382799  ,  3.124901  ,\n",
              "       -1.6814408 , -0.00726553,  2.9220755 ,  5.9629664 ,  2.1071262 ,\n",
              "        4.265064  , -1.1823575 , -5.3644357 ,  2.298822  ,  1.0006377 ,\n",
              "       -4.840494  ,  3.1461365 , -2.513688  ,  4.492963  ,  4.818629  ],\n",
              "      dtype=float32)"
            ]
          },
          "metadata": {},
          "execution_count": 22
        }
      ]
    },
    {
      "cell_type": "code",
      "metadata": {
        "id": "svSPq6NulGqH"
      },
      "source": [
        "# the word vectors\n",
        "wvs = [model.wv.get_vector(k) for k in words]"
      ],
      "execution_count": null,
      "outputs": []
    },
    {
      "cell_type": "code",
      "metadata": {
        "colab": {
          "base_uri": "https://localhost:8080/"
        },
        "id": "kSdckTIvl0rp",
        "outputId": "a7c529cf-f8a7-4c52-a374-f04a7738ce69"
      },
      "source": [
        "len(wvs)"
      ],
      "execution_count": null,
      "outputs": [
        {
          "output_type": "execute_result",
          "data": {
            "text/plain": [
              "4231"
            ]
          },
          "metadata": {},
          "execution_count": 24
        }
      ]
    },
    {
      "cell_type": "code",
      "metadata": {
        "colab": {
          "base_uri": "https://localhost:8080/"
        },
        "id": "Dvq4Nfbpl1lw",
        "outputId": "89f11db3-9719-4655-9a30-645fcb8c2f3b"
      },
      "source": [
        "wvs[0]"
      ],
      "execution_count": null,
      "outputs": [
        {
          "output_type": "execute_result",
          "data": {
            "text/plain": [
              "array([-0.66578275, -2.9085355 , -0.8829532 , -1.3695974 , -3.0093536 ,\n",
              "        0.11377451,  0.16933656,  1.24299   , -1.17743   ,  0.681819  ,\n",
              "        0.09339035,  0.7378738 ,  1.3957863 ,  0.81947744, -0.00586513,\n",
              "        0.38987252,  1.4816715 , -1.9055747 , -1.8339379 , -1.741449  ,\n",
              "        0.10645479, -0.83257025,  1.7034976 ,  0.5461462 ,  2.4657433 ,\n",
              "        0.8028198 , -1.2343493 ,  0.6627121 , -0.01037148,  0.03171173,\n",
              "        1.6893027 , -1.1769923 ,  2.073956  , -2.753812  , -0.7679636 ,\n",
              "        0.39844677, -0.5212944 ,  0.56874615,  0.87439674, -0.8394293 ,\n",
              "        2.6921666 ,  1.824566  , -0.42156827,  1.3652284 ,  0.45353165,\n",
              "        0.5698006 , -0.5414234 , -0.15038237,  1.6272262 ,  0.9797865 ],\n",
              "      dtype=float32)"
            ]
          },
          "metadata": {},
          "execution_count": 25
        }
      ]
    },
    {
      "cell_type": "code",
      "metadata": {
        "id": "oT0H5sROl2tU"
      },
      "source": [
        "wvs_df = pd.DataFrame(wvs, index=words)"
      ],
      "execution_count": null,
      "outputs": []
    },
    {
      "cell_type": "code",
      "metadata": {
        "colab": {
          "base_uri": "https://localhost:8080/",
          "height": 163
        },
        "id": "YvH5dXfdmB97",
        "outputId": "948f1df4-0221-478b-b83d-b436e062718f"
      },
      "source": [
        "wvs_df.head(3)"
      ],
      "execution_count": null,
      "outputs": [
        {
          "output_type": "execute_result",
          "data": {
            "text/html": [
              "<div>\n",
              "<style scoped>\n",
              "    .dataframe tbody tr th:only-of-type {\n",
              "        vertical-align: middle;\n",
              "    }\n",
              "\n",
              "    .dataframe tbody tr th {\n",
              "        vertical-align: top;\n",
              "    }\n",
              "\n",
              "    .dataframe thead th {\n",
              "        text-align: right;\n",
              "    }\n",
              "</style>\n",
              "<table border=\"1\" class=\"dataframe\">\n",
              "  <thead>\n",
              "    <tr style=\"text-align: right;\">\n",
              "      <th></th>\n",
              "      <th>0</th>\n",
              "      <th>1</th>\n",
              "      <th>2</th>\n",
              "      <th>3</th>\n",
              "      <th>4</th>\n",
              "      <th>5</th>\n",
              "      <th>6</th>\n",
              "      <th>7</th>\n",
              "      <th>8</th>\n",
              "      <th>9</th>\n",
              "      <th>10</th>\n",
              "      <th>11</th>\n",
              "      <th>12</th>\n",
              "      <th>13</th>\n",
              "      <th>14</th>\n",
              "      <th>15</th>\n",
              "      <th>16</th>\n",
              "      <th>17</th>\n",
              "      <th>18</th>\n",
              "      <th>19</th>\n",
              "      <th>20</th>\n",
              "      <th>21</th>\n",
              "      <th>22</th>\n",
              "      <th>23</th>\n",
              "      <th>24</th>\n",
              "      <th>25</th>\n",
              "      <th>26</th>\n",
              "      <th>27</th>\n",
              "      <th>28</th>\n",
              "      <th>29</th>\n",
              "      <th>30</th>\n",
              "      <th>31</th>\n",
              "      <th>32</th>\n",
              "      <th>33</th>\n",
              "      <th>34</th>\n",
              "      <th>35</th>\n",
              "      <th>36</th>\n",
              "      <th>37</th>\n",
              "      <th>38</th>\n",
              "      <th>39</th>\n",
              "      <th>40</th>\n",
              "      <th>41</th>\n",
              "      <th>42</th>\n",
              "      <th>43</th>\n",
              "      <th>44</th>\n",
              "      <th>45</th>\n",
              "      <th>46</th>\n",
              "      <th>47</th>\n",
              "      <th>48</th>\n",
              "      <th>49</th>\n",
              "    </tr>\n",
              "  </thead>\n",
              "  <tbody>\n",
              "    <tr>\n",
              "      <th>I</th>\n",
              "      <td>-0.665783</td>\n",
              "      <td>-2.908535</td>\n",
              "      <td>-0.882953</td>\n",
              "      <td>-1.369597</td>\n",
              "      <td>-3.009354</td>\n",
              "      <td>0.113775</td>\n",
              "      <td>0.169337</td>\n",
              "      <td>1.242990</td>\n",
              "      <td>-1.177430</td>\n",
              "      <td>0.681819</td>\n",
              "      <td>0.093390</td>\n",
              "      <td>0.737874</td>\n",
              "      <td>1.395786</td>\n",
              "      <td>0.819477</td>\n",
              "      <td>-0.005865</td>\n",
              "      <td>0.389873</td>\n",
              "      <td>1.481671</td>\n",
              "      <td>-1.905575</td>\n",
              "      <td>-1.833938</td>\n",
              "      <td>-1.741449</td>\n",
              "      <td>0.106455</td>\n",
              "      <td>-0.832570</td>\n",
              "      <td>1.703498</td>\n",
              "      <td>0.546146</td>\n",
              "      <td>2.465743</td>\n",
              "      <td>0.802820</td>\n",
              "      <td>-1.234349</td>\n",
              "      <td>0.662712</td>\n",
              "      <td>-0.010371</td>\n",
              "      <td>0.031712</td>\n",
              "      <td>1.689303</td>\n",
              "      <td>-1.176992</td>\n",
              "      <td>2.073956</td>\n",
              "      <td>-2.753812</td>\n",
              "      <td>-0.767964</td>\n",
              "      <td>0.398447</td>\n",
              "      <td>-0.521294</td>\n",
              "      <td>0.568746</td>\n",
              "      <td>0.874397</td>\n",
              "      <td>-0.839429</td>\n",
              "      <td>2.692167</td>\n",
              "      <td>1.824566</td>\n",
              "      <td>-0.421568</td>\n",
              "      <td>1.365228</td>\n",
              "      <td>0.453532</td>\n",
              "      <td>0.569801</td>\n",
              "      <td>-0.541423</td>\n",
              "      <td>-0.150382</td>\n",
              "      <td>1.627226</td>\n",
              "      <td>0.979787</td>\n",
              "    </tr>\n",
              "    <tr>\n",
              "      <th>'m</th>\n",
              "      <td>1.055109</td>\n",
              "      <td>-3.000840</td>\n",
              "      <td>-0.399056</td>\n",
              "      <td>2.572651</td>\n",
              "      <td>-4.851067</td>\n",
              "      <td>0.091857</td>\n",
              "      <td>3.235703</td>\n",
              "      <td>-2.028651</td>\n",
              "      <td>-0.878493</td>\n",
              "      <td>-1.562155</td>\n",
              "      <td>-4.067506</td>\n",
              "      <td>1.707077</td>\n",
              "      <td>-0.207731</td>\n",
              "      <td>0.940640</td>\n",
              "      <td>-3.144282</td>\n",
              "      <td>2.999190</td>\n",
              "      <td>2.809795</td>\n",
              "      <td>2.553936</td>\n",
              "      <td>2.948460</td>\n",
              "      <td>1.153078</td>\n",
              "      <td>1.769837</td>\n",
              "      <td>-3.250307</td>\n",
              "      <td>0.584587</td>\n",
              "      <td>-1.696497</td>\n",
              "      <td>-0.840267</td>\n",
              "      <td>1.172861</td>\n",
              "      <td>-0.503997</td>\n",
              "      <td>1.984019</td>\n",
              "      <td>1.561508</td>\n",
              "      <td>-0.144384</td>\n",
              "      <td>0.343667</td>\n",
              "      <td>0.003175</td>\n",
              "      <td>4.074138</td>\n",
              "      <td>-1.201601</td>\n",
              "      <td>-0.407159</td>\n",
              "      <td>-0.580692</td>\n",
              "      <td>0.274542</td>\n",
              "      <td>-0.283369</td>\n",
              "      <td>3.164036</td>\n",
              "      <td>-3.689550</td>\n",
              "      <td>-1.436645</td>\n",
              "      <td>3.021754</td>\n",
              "      <td>3.424588</td>\n",
              "      <td>1.896585</td>\n",
              "      <td>-0.910668</td>\n",
              "      <td>0.345929</td>\n",
              "      <td>1.655473</td>\n",
              "      <td>-1.790173</td>\n",
              "      <td>0.099726</td>\n",
              "      <td>-1.727546</td>\n",
              "    </tr>\n",
              "    <tr>\n",
              "      <th>going</th>\n",
              "      <td>-1.532647</td>\n",
              "      <td>0.687205</td>\n",
              "      <td>-1.172105</td>\n",
              "      <td>-2.924064</td>\n",
              "      <td>-1.880414</td>\n",
              "      <td>-3.330269</td>\n",
              "      <td>2.123246</td>\n",
              "      <td>-4.227839</td>\n",
              "      <td>-2.074299</td>\n",
              "      <td>0.870421</td>\n",
              "      <td>-0.369283</td>\n",
              "      <td>-4.452753</td>\n",
              "      <td>2.344996</td>\n",
              "      <td>-4.249955</td>\n",
              "      <td>-1.290592</td>\n",
              "      <td>-1.479118</td>\n",
              "      <td>3.421518</td>\n",
              "      <td>-4.243465</td>\n",
              "      <td>4.914837</td>\n",
              "      <td>-3.020855</td>\n",
              "      <td>-3.929148</td>\n",
              "      <td>-0.285183</td>\n",
              "      <td>2.253672</td>\n",
              "      <td>-5.657436</td>\n",
              "      <td>0.079344</td>\n",
              "      <td>-1.041635</td>\n",
              "      <td>2.388338</td>\n",
              "      <td>-1.798242</td>\n",
              "      <td>-3.748515</td>\n",
              "      <td>0.942380</td>\n",
              "      <td>-0.619262</td>\n",
              "      <td>-1.135410</td>\n",
              "      <td>0.617020</td>\n",
              "      <td>-2.888299</td>\n",
              "      <td>-2.269797</td>\n",
              "      <td>4.645120</td>\n",
              "      <td>-3.699750</td>\n",
              "      <td>-0.394745</td>\n",
              "      <td>1.544836</td>\n",
              "      <td>3.625982</td>\n",
              "      <td>-2.685975</td>\n",
              "      <td>0.274550</td>\n",
              "      <td>2.530495</td>\n",
              "      <td>3.233850</td>\n",
              "      <td>-2.627238</td>\n",
              "      <td>-0.159984</td>\n",
              "      <td>2.322147</td>\n",
              "      <td>-2.999153</td>\n",
              "      <td>-0.867622</td>\n",
              "      <td>3.222203</td>\n",
              "    </tr>\n",
              "  </tbody>\n",
              "</table>\n",
              "</div>"
            ],
            "text/plain": [
              "             0         1         2   ...        47        48        49\n",
              "I     -0.665783 -2.908535 -0.882953  ... -0.150382  1.627226  0.979787\n",
              "'m     1.055109 -3.000840 -0.399056  ... -1.790173  0.099726 -1.727546\n",
              "going -1.532647  0.687205 -1.172105  ... -2.999153 -0.867622  3.222203\n",
              "\n",
              "[3 rows x 50 columns]"
            ]
          },
          "metadata": {},
          "execution_count": 27
        }
      ]
    },
    {
      "cell_type": "code",
      "metadata": {
        "id": "8XhOOeRHmCzb"
      },
      "source": [
        "dvs_df = pd.DataFrame(dvs, index=df.text)"
      ],
      "execution_count": null,
      "outputs": []
    },
    {
      "cell_type": "code",
      "metadata": {
        "colab": {
          "base_uri": "https://localhost:8080/",
          "height": 975
        },
        "id": "RXfwJWBQmK44",
        "outputId": "8716945d-f5c6-4cbe-d28e-d946ae01f212"
      },
      "source": [
        "dvs_df.head(3)"
      ],
      "execution_count": null,
      "outputs": [
        {
          "output_type": "execute_result",
          "data": {
            "text/html": [
              "<div>\n",
              "<style scoped>\n",
              "    .dataframe tbody tr th:only-of-type {\n",
              "        vertical-align: middle;\n",
              "    }\n",
              "\n",
              "    .dataframe tbody tr th {\n",
              "        vertical-align: top;\n",
              "    }\n",
              "\n",
              "    .dataframe thead th {\n",
              "        text-align: right;\n",
              "    }\n",
              "</style>\n",
              "<table border=\"1\" class=\"dataframe\">\n",
              "  <thead>\n",
              "    <tr style=\"text-align: right;\">\n",
              "      <th></th>\n",
              "      <th>0</th>\n",
              "      <th>1</th>\n",
              "      <th>2</th>\n",
              "      <th>3</th>\n",
              "      <th>4</th>\n",
              "      <th>5</th>\n",
              "      <th>6</th>\n",
              "      <th>7</th>\n",
              "      <th>8</th>\n",
              "      <th>9</th>\n",
              "      <th>10</th>\n",
              "      <th>11</th>\n",
              "      <th>12</th>\n",
              "      <th>13</th>\n",
              "      <th>14</th>\n",
              "      <th>15</th>\n",
              "      <th>16</th>\n",
              "      <th>17</th>\n",
              "      <th>18</th>\n",
              "      <th>19</th>\n",
              "      <th>20</th>\n",
              "      <th>21</th>\n",
              "      <th>22</th>\n",
              "      <th>23</th>\n",
              "      <th>24</th>\n",
              "      <th>25</th>\n",
              "      <th>26</th>\n",
              "      <th>27</th>\n",
              "      <th>28</th>\n",
              "      <th>29</th>\n",
              "      <th>30</th>\n",
              "      <th>31</th>\n",
              "      <th>32</th>\n",
              "      <th>33</th>\n",
              "      <th>34</th>\n",
              "      <th>35</th>\n",
              "      <th>36</th>\n",
              "      <th>37</th>\n",
              "      <th>38</th>\n",
              "      <th>39</th>\n",
              "      <th>40</th>\n",
              "      <th>41</th>\n",
              "      <th>42</th>\n",
              "      <th>43</th>\n",
              "      <th>44</th>\n",
              "      <th>45</th>\n",
              "      <th>46</th>\n",
              "      <th>47</th>\n",
              "      <th>48</th>\n",
              "      <th>49</th>\n",
              "    </tr>\n",
              "    <tr>\n",
              "      <th>text</th>\n",
              "      <th></th>\n",
              "      <th></th>\n",
              "      <th></th>\n",
              "      <th></th>\n",
              "      <th></th>\n",
              "      <th></th>\n",
              "      <th></th>\n",
              "      <th></th>\n",
              "      <th></th>\n",
              "      <th></th>\n",
              "      <th></th>\n",
              "      <th></th>\n",
              "      <th></th>\n",
              "      <th></th>\n",
              "      <th></th>\n",
              "      <th></th>\n",
              "      <th></th>\n",
              "      <th></th>\n",
              "      <th></th>\n",
              "      <th></th>\n",
              "      <th></th>\n",
              "      <th></th>\n",
              "      <th></th>\n",
              "      <th></th>\n",
              "      <th></th>\n",
              "      <th></th>\n",
              "      <th></th>\n",
              "      <th></th>\n",
              "      <th></th>\n",
              "      <th></th>\n",
              "      <th></th>\n",
              "      <th></th>\n",
              "      <th></th>\n",
              "      <th></th>\n",
              "      <th></th>\n",
              "      <th></th>\n",
              "      <th></th>\n",
              "      <th></th>\n",
              "      <th></th>\n",
              "      <th></th>\n",
              "      <th></th>\n",
              "      <th></th>\n",
              "      <th></th>\n",
              "      <th></th>\n",
              "      <th></th>\n",
              "      <th></th>\n",
              "      <th></th>\n",
              "      <th></th>\n",
              "      <th></th>\n",
              "      <th></th>\n",
              "    </tr>\n",
              "  </thead>\n",
              "  <tbody>\n",
              "    <tr>\n",
              "      <th>I'm going to be out of the country for about a week, but before I travel I'm going to be getting the animal print jumper, product code T383434J. Can I have this held at the post office or a distribution centre for pickup? I'd just hate to have it sitting at my house when I'm not going to be around.</th>\n",
              "      <td>-0.397924</td>\n",
              "      <td>-0.711229</td>\n",
              "      <td>-0.206766</td>\n",
              "      <td>-0.292248</td>\n",
              "      <td>-1.119157</td>\n",
              "      <td>-0.105951</td>\n",
              "      <td>-0.068171</td>\n",
              "      <td>-0.333696</td>\n",
              "      <td>0.585937</td>\n",
              "      <td>0.232716</td>\n",
              "      <td>0.071605</td>\n",
              "      <td>0.466864</td>\n",
              "      <td>0.776836</td>\n",
              "      <td>0.594392</td>\n",
              "      <td>-0.303131</td>\n",
              "      <td>0.225748</td>\n",
              "      <td>0.791833</td>\n",
              "      <td>0.391250</td>\n",
              "      <td>-0.296013</td>\n",
              "      <td>-0.157301</td>\n",
              "      <td>0.552240</td>\n",
              "      <td>-0.591973</td>\n",
              "      <td>0.078812</td>\n",
              "      <td>-0.595828</td>\n",
              "      <td>-0.207775</td>\n",
              "      <td>0.240900</td>\n",
              "      <td>-0.358313</td>\n",
              "      <td>-0.265520</td>\n",
              "      <td>0.536214</td>\n",
              "      <td>0.065732</td>\n",
              "      <td>-0.222256</td>\n",
              "      <td>-0.424481</td>\n",
              "      <td>0.032220</td>\n",
              "      <td>-0.374234</td>\n",
              "      <td>0.194687</td>\n",
              "      <td>0.613478</td>\n",
              "      <td>-0.362810</td>\n",
              "      <td>-0.598106</td>\n",
              "      <td>-0.577620</td>\n",
              "      <td>-0.107723</td>\n",
              "      <td>-0.176314</td>\n",
              "      <td>-1.096189</td>\n",
              "      <td>0.458119</td>\n",
              "      <td>0.886780</td>\n",
              "      <td>-0.976766</td>\n",
              "      <td>-1.064614</td>\n",
              "      <td>0.170944</td>\n",
              "      <td>0.274478</td>\n",
              "      <td>-0.374297</td>\n",
              "      <td>-0.627254</td>\n",
              "    </tr>\n",
              "    <tr>\n",
              "      <th>I was wondering if you'd be able to overnight a jacket (Item #5220032) to me in Trenton, NJ?</th>\n",
              "      <td>-0.206852</td>\n",
              "      <td>0.284589</td>\n",
              "      <td>0.404785</td>\n",
              "      <td>-0.532679</td>\n",
              "      <td>-0.474808</td>\n",
              "      <td>-0.310564</td>\n",
              "      <td>0.219496</td>\n",
              "      <td>0.188848</td>\n",
              "      <td>-0.275991</td>\n",
              "      <td>0.249352</td>\n",
              "      <td>0.449042</td>\n",
              "      <td>0.011301</td>\n",
              "      <td>-0.149904</td>\n",
              "      <td>0.088136</td>\n",
              "      <td>0.014674</td>\n",
              "      <td>0.144065</td>\n",
              "      <td>0.078241</td>\n",
              "      <td>-0.071032</td>\n",
              "      <td>0.062912</td>\n",
              "      <td>-0.454195</td>\n",
              "      <td>-0.076925</td>\n",
              "      <td>0.161092</td>\n",
              "      <td>0.401417</td>\n",
              "      <td>0.306182</td>\n",
              "      <td>0.268293</td>\n",
              "      <td>-0.271819</td>\n",
              "      <td>-0.043734</td>\n",
              "      <td>-0.043099</td>\n",
              "      <td>0.290342</td>\n",
              "      <td>0.011793</td>\n",
              "      <td>0.132232</td>\n",
              "      <td>-0.223202</td>\n",
              "      <td>0.101531</td>\n",
              "      <td>0.362835</td>\n",
              "      <td>-0.449859</td>\n",
              "      <td>0.116591</td>\n",
              "      <td>-0.551389</td>\n",
              "      <td>-0.314786</td>\n",
              "      <td>-0.259020</td>\n",
              "      <td>0.222367</td>\n",
              "      <td>-0.226770</td>\n",
              "      <td>-0.424320</td>\n",
              "      <td>0.262417</td>\n",
              "      <td>-0.284037</td>\n",
              "      <td>0.487949</td>\n",
              "      <td>-0.798868</td>\n",
              "      <td>0.302646</td>\n",
              "      <td>0.105831</td>\n",
              "      <td>-0.033192</td>\n",
              "      <td>0.197674</td>\n",
              "    </tr>\n",
              "    <tr>\n",
              "      <th>The Swingline electronic stapler (472555) looks really great, but I would need to have it shipped to St. Thomas in the US Virgin Islands. Do you allow for that, or is that considered \"international\" shipping?</th>\n",
              "      <td>0.130263</td>\n",
              "      <td>-0.269477</td>\n",
              "      <td>-0.434476</td>\n",
              "      <td>-0.062013</td>\n",
              "      <td>-0.318142</td>\n",
              "      <td>0.083562</td>\n",
              "      <td>-0.246485</td>\n",
              "      <td>0.462324</td>\n",
              "      <td>0.342016</td>\n",
              "      <td>-0.287815</td>\n",
              "      <td>1.349640</td>\n",
              "      <td>-0.372900</td>\n",
              "      <td>-0.002771</td>\n",
              "      <td>0.401557</td>\n",
              "      <td>-0.129492</td>\n",
              "      <td>-0.259684</td>\n",
              "      <td>0.087434</td>\n",
              "      <td>0.367613</td>\n",
              "      <td>-0.971915</td>\n",
              "      <td>-0.182911</td>\n",
              "      <td>-0.059437</td>\n",
              "      <td>-0.532396</td>\n",
              "      <td>-0.750401</td>\n",
              "      <td>-0.049185</td>\n",
              "      <td>-0.029156</td>\n",
              "      <td>0.291362</td>\n",
              "      <td>-0.431958</td>\n",
              "      <td>-0.240089</td>\n",
              "      <td>-0.068290</td>\n",
              "      <td>-0.558748</td>\n",
              "      <td>-0.369938</td>\n",
              "      <td>-0.153024</td>\n",
              "      <td>0.131665</td>\n",
              "      <td>0.124103</td>\n",
              "      <td>0.017545</td>\n",
              "      <td>-0.096747</td>\n",
              "      <td>0.337980</td>\n",
              "      <td>-0.180721</td>\n",
              "      <td>-0.058636</td>\n",
              "      <td>-0.158403</td>\n",
              "      <td>-0.511942</td>\n",
              "      <td>-0.622224</td>\n",
              "      <td>0.418237</td>\n",
              "      <td>-0.222949</td>\n",
              "      <td>0.452603</td>\n",
              "      <td>-0.746245</td>\n",
              "      <td>-0.048576</td>\n",
              "      <td>-0.256337</td>\n",
              "      <td>0.297158</td>\n",
              "      <td>-0.086371</td>\n",
              "    </tr>\n",
              "  </tbody>\n",
              "</table>\n",
              "</div>"
            ],
            "text/plain": [
              "                                                          0   ...        49\n",
              "text                                                          ...          \n",
              "I'm going to be out of the country for about a ... -0.397924  ... -0.627254\n",
              "I was wondering if you'd be able to overnight a... -0.206852  ...  0.197674\n",
              "The Swingline electronic stapler (472555) looks...  0.130263  ... -0.086371\n",
              "\n",
              "[3 rows x 50 columns]"
            ]
          },
          "metadata": {},
          "execution_count": 29
        }
      ]
    },
    {
      "cell_type": "markdown",
      "metadata": {
        "id": "kPLDAgrQmMZ2"
      },
      "source": [
        "> What we have now are two dataframes (to keep things as intuitive as we can).  One is the document vectors, the other is the token vectors, which we will use after the clustering."
      ]
    },
    {
      "cell_type": "code",
      "metadata": {
        "id": "Gu_gzHX-mW7S"
      },
      "source": [],
      "execution_count": null,
      "outputs": []
    },
    {
      "cell_type": "markdown",
      "metadata": {
        "id": "VsVPhR5tHL83"
      },
      "source": [
        "# Dimensionality Reduction and Clustering"
      ]
    },
    {
      "cell_type": "code",
      "metadata": {
        "id": "kJ8OliD8HOxY",
        "colab": {
          "base_uri": "https://localhost:8080/"
        },
        "outputId": "0e5c331c-df8b-4b4e-af26-dca57cba022f"
      },
      "source": [
        "# first, apply umap\n",
        "reducer = UMAP(random_state=82)\n",
        "\n",
        "# umap knows how to handle a pandas dataframe\n",
        "embeds = reducer.fit_transform(dvs_df)"
      ],
      "execution_count": null,
      "outputs": [
        {
          "output_type": "stream",
          "name": "stderr",
          "text": [
            "/usr/local/lib/python3.7/dist-packages/numba/np/ufunc/parallel.py:363: NumbaWarning: The TBB threading layer requires TBB version 2019.5 or later i.e., TBB_INTERFACE_VERSION >= 11005. Found TBB_INTERFACE_VERSION = 9107. The TBB threading layer is disabled.\n",
            "  warnings.warn(problem)\n"
          ]
        }
      ]
    },
    {
      "cell_type": "code",
      "metadata": {
        "colab": {
          "base_uri": "https://localhost:8080/"
        },
        "id": "FcP5LJeLHxOa",
        "outputId": "e5402efa-a2c0-4f1b-b4b3-e0c1ae608f56"
      },
      "source": [
        "# confirm what we have\n",
        "embeds.shape"
      ],
      "execution_count": null,
      "outputs": [
        {
          "output_type": "execute_result",
          "data": {
            "text/plain": [
              "(5000, 2)"
            ]
          },
          "metadata": {},
          "execution_count": 31
        }
      ]
    },
    {
      "cell_type": "code",
      "metadata": {
        "id": "X63MDu31ICu9"
      },
      "source": [
        "# lets ignore tests and just say k = 7\n",
        "# arbitrary selection\n",
        "km = KMeans(7)\n",
        "km.fit(embeds)\n",
        "\n",
        "preds = km.predict(embeds)\n"
      ],
      "execution_count": null,
      "outputs": []
    },
    {
      "cell_type": "code",
      "metadata": {
        "colab": {
          "base_uri": "https://localhost:8080/",
          "height": 282
        },
        "id": "suVxPYAOIPKo",
        "outputId": "b0aa0fae-519f-4304-8707-05e92b322198"
      },
      "source": [
        "# lets plot this\n",
        "sns.scatterplot(x=embeds[:, 0], y=embeds[:, 1], hue=preds, alpha=.5, palette=\"muted\")"
      ],
      "execution_count": null,
      "outputs": [
        {
          "output_type": "execute_result",
          "data": {
            "text/plain": [
              "<matplotlib.axes._subplots.AxesSubplot at 0x7f8b648e6250>"
            ]
          },
          "metadata": {},
          "execution_count": 33
        },
        {
          "output_type": "display_data",
          "data": {
            "image/png": "[encoded data removed]",
            "text/plain": [
              "<Figure size 432x288 with 1 Axes>"
            ]
          },
          "metadata": {
            "needs_background": "light"
          }
        }
      ]
    },
    {
      "cell_type": "code",
      "metadata": {
        "colab": {
          "base_uri": "https://localhost:8080/"
        },
        "id": "379LtULmJA5g",
        "outputId": "e7e3e820-bd7b-4c9d-e589-d1e656d884b6"
      },
      "source": [
        "# ok, with the documents clustered, we are interested in learning\n",
        "# about the words that are close/similar to the cluster centers\n",
        "\n",
        "centers = km.cluster_centers_\n",
        "\n",
        "centers.shape"
      ],
      "execution_count": null,
      "outputs": [
        {
          "output_type": "execute_result",
          "data": {
            "text/plain": [
              "(7, 2)"
            ]
          },
          "metadata": {},
          "execution_count": 34
        }
      ]
    },
    {
      "cell_type": "markdown",
      "metadata": {
        "id": "TXLkwzx-JHHp"
      },
      "source": [
        "> Intuition:  We changed the embedding via UMAP, so to project the words into the same space, we need to transform the wvs too."
      ]
    },
    {
      "cell_type": "code",
      "metadata": {
        "id": "ZHiKzlAKJvoo"
      },
      "source": [
        "wvs_umap = reducer.transform(wvs_df)"
      ],
      "execution_count": null,
      "outputs": []
    },
    {
      "cell_type": "code",
      "metadata": {
        "colab": {
          "base_uri": "https://localhost:8080/"
        },
        "id": "uhrf4l6iJzyt",
        "outputId": "45735bf1-1006-4a0d-dac1-e0a8e51be7fc"
      },
      "source": [
        "# for each cluster, compare the center to the word embeddings via umap\n",
        "# get the top 20 closest\n",
        "# the umap embeddings for the word vectors is the lookup table\n",
        "knn = NearestNeighbors(n_neighbors=15, metric=\"cosine\")\n",
        "knn.fit(wvs_umap)"
      ],
      "execution_count": null,
      "outputs": [
        {
          "output_type": "execute_result",
          "data": {
            "text/plain": [
              "NearestNeighbors(metric='cosine', n_neighbors=15)"
            ]
          },
          "metadata": {},
          "execution_count": 36
        }
      ]
    },
    {
      "cell_type": "code",
      "metadata": {
        "id": "GYJDJXihNboW"
      },
      "source": [
        "# get the top similar tokens for each cluster\n",
        "nbrs = knn.kneighbors(centers, return_distance=False)"
      ],
      "execution_count": null,
      "outputs": []
    },
    {
      "cell_type": "code",
      "metadata": {
        "colab": {
          "base_uri": "https://localhost:8080/"
        },
        "id": "cMdLFrTRN3Tj",
        "outputId": "e7f2bd5e-6a08-498f-9cc0-67cfc4808932"
      },
      "source": [
        "# this should be the same length as clusters, and 10\n",
        "nbrs.shape"
      ],
      "execution_count": null,
      "outputs": [
        {
          "output_type": "execute_result",
          "data": {
            "text/plain": [
              "(7, 15)"
            ]
          },
          "metadata": {},
          "execution_count": 38
        }
      ]
    },
    {
      "cell_type": "code",
      "metadata": {
        "colab": {
          "base_uri": "https://localhost:8080/"
        },
        "id": "oxbuENNUOCfz",
        "outputId": "2cf97784-6fdc-459a-baaa-9eef88ec6039"
      },
      "source": [
        "# what do we have?\n",
        "nbrs"
      ],
      "execution_count": null,
      "outputs": [
        {
          "output_type": "execute_result",
          "data": {
            "text/plain": [
              "array([[ 173,    6,  501, 1894, 1740,  496, 1092,  636, 2558, 3623, 1380,\n",
              "        3178, 2267, 2313,  249],\n",
              "       [2479, 3658, 1989, 4033,  838, 2904, 1429, 3796, 1449, 2083,  960,\n",
              "         440,  990, 1765, 2573],\n",
              "       [1728, 1360, 2151, 1389, 1559, 3415,  600, 3328,  777, 1878,  246,\n",
              "         721,  638, 3135, 3736],\n",
              "       [ 741,  174, 1402, 3409, 3024, 4201, 1331,  197, 1991,  335, 2944,\n",
              "         958, 1716, 1731, 3019],\n",
              "       [3532,  364, 1951, 2035, 3465, 1150,   27, 2981, 1630, 1091, 1113,\n",
              "        1126, 2045, 3163,  224],\n",
              "       [2000,  445,  738, 2175, 2891,  676,  486,  989, 1102, 3079, 2153,\n",
              "        4073, 2795,  347, 2890],\n",
              "       [2373, 2383, 1714, 1848,  485,   69, 2069, 1692, 1697, 1694, 1689,\n",
              "        1733,   12, 1767,   83]])"
            ]
          },
          "metadata": {},
          "execution_count": 39
        }
      ]
    },
    {
      "cell_type": "markdown",
      "metadata": {
        "id": "k1q82W1POJzc"
      },
      "source": [
        "> These are the indices for the word vectors.  We can use these to lookup the tokens"
      ]
    },
    {
      "cell_type": "code",
      "metadata": {
        "colab": {
          "base_uri": "https://localhost:8080/"
        },
        "id": "s5UUn3XDORd9",
        "outputId": "d8399a7f-c77c-4477-c01b-fdc327f0149a"
      },
      "source": [
        "# review the first cluster indexes\n",
        "nbrs[0]"
      ],
      "execution_count": null,
      "outputs": [
        {
          "output_type": "execute_result",
          "data": {
            "text/plain": [
              "array([ 173,    6,  501, 1894, 1740,  496, 1092,  636, 2558, 3623, 1380,\n",
              "       3178, 2267, 2313,  249])"
            ]
          },
          "metadata": {},
          "execution_count": 40
        }
      ]
    },
    {
      "cell_type": "code",
      "metadata": {
        "id": "BHkXvC6EOjee"
      },
      "source": [
        "# loop for all clusters\n",
        "topic_terms = []\n",
        "\n",
        "for k in nbrs:\n",
        "  topic_terms.append(wvs_df.iloc[k, :].index.to_list())"
      ],
      "execution_count": null,
      "outputs": []
    },
    {
      "cell_type": "code",
      "metadata": {
        "colab": {
          "base_uri": "https://localhost:8080/"
        },
        "id": "OvLv_6rzPI1j",
        "outputId": "e2ac018b-df73-4486-f513-4d625aecd121"
      },
      "source": [
        "for i, topic in enumerate(topic_terms):\n",
        "  print((i, topic))"
      ],
      "execution_count": null,
      "outputs": [
        {
          "output_type": "stream",
          "name": "stdout",
          "text": [
            "(0, ['Hi', 'of', 'Protein', 'Carolina', 'locations', 'shoes', 'Lamp', 'Optimum', 'entire', 'colors', 'bundle', 'lasts', 'larger', 'Energy', 'tomorrow'])\n",
            "(1, ['1122985', 'known', 'Subtil', 'royal', 'beauty', 'brownie', 'Twill', 'sleeves', 'Washington', 'arctic', 'First', 'White', '15212', 'collection', 'short'])\n",
            "(2, ['program', 'capsules', 'newsletter', 'Jacket', 'heel', 'connect', 'Men', 'hold', 'seen', 'seeing', 'ship', \"'re\", 'Women', 'height-', 'quartz'])\n",
            "(3, ['booties', 'looking', 'Grill', 'calories', 'baby', 'biotin', 'actual', 'case', 'Sculpting', 'shirt', 'boys', 'Tote', 'types', 'oval', 'Flight'])\n",
            "(4, ['reclined', 'NV', 'King', 'sofas', 'serving-', 'disposal', 'at', 'height', 'save', 'Floor', 'Oklahoma', 'Shorts', 'weekend', 'Both', 'mail'])\n",
            "(5, ['65805', 'lives', 'certain', 'immediate', 'butter', 'possibly', 'am', 'Leather', 'Fit', 'lighter-', 'per', 'stretchy', 'bars', 'Lace', 'peanut'])\n",
            "(6, ['winter', 'provider', 'bought', 'easier', 'ships', 'shipped', 'lights', 'blazers', 'selection', 'fragrances', 'department', 'section', 'week', 'through', 'think'])\n"
          ]
        }
      ]
    },
    {
      "cell_type": "code",
      "metadata": {
        "id": "E6nI6kHCW3kx"
      },
      "source": [],
      "execution_count": null,
      "outputs": []
    },
    {
      "cell_type": "markdown",
      "metadata": {
        "id": "h0CRmWJRPJ33"
      },
      "source": [
        "# Summary and Next Steps\n",
        "\n",
        "- Obviously no evaluation of the clusters - just chose 7 - is an area for improvement\n",
        "- Really small corpus isn't helping.  It keeps things simple, but results aren't super clear\n",
        "- However its important to consider how embeddings can be trained for different tasks, and in this case, jointly learned such that we can put tokens and documents in the same coordinate space for analysis!\n",
        "\n",
        "> To me, topic modeling in general has always been something that I see people perform, but the results are never really clear to me, but the point is that an approach above makes much more sense to me in terms of howe we can relate similar items (document themes, words) to drive topic detection.  \n",
        "\n",
        "\n",
        "## Top2Vec \n",
        "\n",
        "The mechanics we ran through above mirror the Top2Vec paper linked below \n",
        "\n",
        "- https://arxiv.org/abs/2008.09470\n",
        "- https://github.com/ddangelov/Top2Vec\n",
        "\n",
        "Differences:\n",
        "\n",
        "1.  Used HDBScan for clustering, which has a nice property in that clusters do not need to be spherical in nature (like Kmeans)\n",
        "1.  Certain records can be ouliers, that is, not part of a cluster\n",
        "\n",
        "\n",
        "The result is that clusters might better identify micro topics for detection.\n",
        "\n",
        "## Other Resources\n",
        "\n",
        "- https://cssh.northeastern.edu/nulab/word-embedding-models-new-topic-models/\n",
        "- https://www.storybench.org/how-news-media-are-setting-the-2020-election-agenda-chasing-daily-controversies-often-burying-policy/\n",
        "\n"
      ]
    },
    {
      "cell_type": "code",
      "metadata": {
        "id": "woDvoR7gX_vB"
      },
      "source": [],
      "execution_count": null,
      "outputs": []
    }
  ]
}
